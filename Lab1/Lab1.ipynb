{
 "cells": [
  {
   "cell_type": "markdown",
   "metadata": {},
   "source": [
    "<strong><b><font size=\"5\">UNIPE</font></b></strong>"
   ]
  },
  {
   "cell_type": "markdown",
   "metadata": {},
   "source": [
    "<strong><b><font size=\"5\">Web Scraping e Análise de Dados</font></b></strong>"
   ]
  },
  {
   "attachments": {},
   "cell_type": "markdown",
   "metadata": {},
   "source": [
    "<strong><b><font size=\"5\">Lab 1</font></b></strong>\n",
    "\n",
    "<strong><b><font size=\"4\">Scraping, Processamento de Linguagem Natural e Análise de Dados em Portais de Vagas no Brasil</font></b></strong>"
   ]
  },
  {
   "cell_type": "markdown",
   "metadata": {},
   "source": [
    "![title](imagens/lab1.png)"
   ]
  },
  {
   "cell_type": "markdown",
   "metadata": {},
   "source": [
    "Neste Lab iremos conectar em um dos maiores portais de vagas do Brasil, o Indeed, fazer web scraping de dados sobre as vagas em Data Science e então analisar os dados, extraindo insights e aplicando Processamento de Linguagem Natural. O exemplo pode ser facilmente aplicado a outros portais, com os devidos ajustes.\n",
    "\n",
    "Usaremos o Chromedriver para o processo de extração. Acesse o endereço abaixo, faça o download do arquivo de acordo com seu sistema operacional, descompacte o zip e coloque o arquivo na mesma pasta onde está este Jupyter Notebook.\n",
    "\n",
    "https://sites.google.com/a/chromium.org/chromedriver/home"
   ]
  },
  {
   "cell_type": "markdown",
   "metadata": {},
   "source": [
    "Execute cada uma das células, leia os comentários, estude o código e faça modificações para customizar o Lab."
   ]
  },
  {
   "cell_type": "markdown",
   "metadata": {},
   "source": [
    "## Carregando os Pacotes Usados Neste Jupyter Notebook"
   ]
  },
  {
   "cell_type": "code",
   "execution_count": 1,
   "metadata": {},
   "outputs": [
    {
     "name": "stdout",
     "output_type": "stream",
     "text": [
      "Versão da Linguagem Python Usada Neste Jupyter Notebook: 3.7.6\n"
     ]
    }
   ],
   "source": [
    "# Versão da Linguagem Python\n",
    "from platform import python_version\n",
    "print('Versão da Linguagem Python Usada Neste Jupyter Notebook:', python_version())"
   ]
  },
  {
   "cell_type": "code",
   "execution_count": 2,
   "metadata": {},
   "outputs": [],
   "source": [
    "# Para atualizar um pacote, execute o comando abaixo no terminal ou prompt de comando:\n",
    "# pip install -U nome_pacote\n",
    "\n",
    "# Para instalar a versão exata de um pacote, execute o comando abaixo no terminal ou prompt de comando:\n",
    "# pip install nome_pacote==versão_desejada\n",
    "\n",
    "# Depois de instalar ou atualizar o pacote, reinicie o jupyter notebook, se necessário."
   ]
  },
  {
   "cell_type": "code",
   "execution_count": 3,
   "metadata": {},
   "outputs": [],
   "source": [
    "# Instala o pacote watermark. \n",
    "# Esse pacote é usado para gravar as versões de outros pacotes usados neste jupyter notebook.\n",
    "!pip install -q -U watermark"
   ]
  },
  {
   "cell_type": "code",
   "execution_count": 4,
   "metadata": {},
   "outputs": [],
   "source": [
    "# Precisaremos do selenium\n",
    "!pip install -q selenium"
   ]
  },
  {
   "cell_type": "code",
   "execution_count": 5,
   "metadata": {},
   "outputs": [],
   "source": [
    "# Imports\n",
    "import bs4\n",
    "import selenium\n",
    "import numpy as np\n",
    "import pandas as pd\n",
    "import matplotlib\n",
    "import matplotlib.pyplot as plt\n",
    "from selenium import webdriver\n",
    "from bs4 import BeautifulSoup\n",
    "from collections import Counter\n",
    "%matplotlib inline"
   ]
  },
  {
   "cell_type": "code",
   "execution_count": 6,
   "metadata": {},
   "outputs": [],
   "source": [
    "# Com o NLTK fazemos Processamento de Linguagem Natural\n",
    "import nltk"
   ]
  },
  {
   "cell_type": "code",
   "execution_count": 7,
   "metadata": {},
   "outputs": [
    {
     "name": "stdout",
     "output_type": "stream",
     "text": [
      "showing info https://raw.githubusercontent.com/nltk/nltk_data/gh-pages/index.xml\n"
     ]
    },
    {
     "data": {
      "text/plain": [
       "True"
      ]
     },
     "execution_count": 7,
     "metadata": {},
     "output_type": "execute_result"
    }
   ],
   "source": [
    "# Temos que fazer o download do dicionário e demais pacotes do NLTK\n",
    "# Vai abrir outra janela do navegador solicitando a seleção dos itens para download. \n",
    "# Selecione todos os itens com o mouse e então clique em Download. Feche a janela quando terminar.\n",
    "nltk.download()"
   ]
  },
  {
   "cell_type": "code",
   "execution_count": 8,
   "metadata": {},
   "outputs": [],
   "source": [
    "# Tokenização é o processo de quebrar uma sentença em palavras, por exemplo.\n",
    "# Essa tarefa faz parte do processamento de linguagem natural. \n",
    "# Vamos importar a função word_tokenize.\n",
    "from nltk import word_tokenize"
   ]
  },
  {
   "cell_type": "code",
   "execution_count": 9,
   "metadata": {},
   "outputs": [],
   "source": [
    "# As stopwords são palavras comuns, como artigos, advérbios ou conjunções.\n",
    "# As stopwords devem ser removidas no processamento de linguagem natural.\n",
    "# Vamos importar a função stopwords.\n",
    "from nltk.corpus import stopwords"
   ]
  },
  {
   "cell_type": "code",
   "execution_count": 10,
   "metadata": {},
   "outputs": [
    {
     "name": "stdout",
     "output_type": "stream",
     "text": [
      "selenium.webdriver 3.14.1\n",
      "numpy              1.18.5\n",
      "bs4                4.8.2\n",
      "nltk               3.4.5\n",
      "pandas             1.0.4\n",
      "selenium           3.141.0\n",
      "matplotlib         3.2.1\n",
      "Data Science Academy\n"
     ]
    }
   ],
   "source": [
    "# Versões dos pacotes usados neste jupyter notebook\n",
    "%reload_ext watermark\n",
    "%watermark -a \"Data Science Academy\" --iversions"
   ]
  },
  {
   "cell_type": "markdown",
   "metadata": {},
   "source": [
    "## Web Scraping"
   ]
  },
  {
   "cell_type": "code",
   "execution_count": 11,
   "metadata": {},
   "outputs": [],
   "source": [
    "# Cria o driver de conexão. Será aberta outra janela do navegador. Não feche-a e mantenha aberta durante a extração.\n",
    "driver = webdriver.Chrome(\"./chromedriver\")"
   ]
  },
  {
   "cell_type": "code",
   "execution_count": 12,
   "metadata": {},
   "outputs": [],
   "source": [
    "# Cria o dataframe para receber os dados\n",
    "dados = pd.DataFrame(columns = [\"Titulo\", \"Localidade\", \"Empresa\", \"Salario\", \"Tipo_Pesquisa\", \"Desc\"])"
   ]
  },
  {
   "cell_type": "markdown",
   "metadata": {},
   "source": [
    "A url abaixo foi gerada da seguinte forma:\n",
    "    \n",
    "- 1- Acesso ao site https://www.indeed.com.br\n",
    "\n",
    "- 2- Seleção dos filtros de pesquisa de vagas com o termo \"Data Science\" e localidade \"Brasil\"\n",
    "\n",
    "- 3- Então copiamos a url na barra de endereço do navegador.\n",
    "\n",
    "Você pode executar o mesmo procedimento e customizar sua busca, alterando localidade ou o tipo de vaga por exemplo. Copie a url e coloque na célula abaixo. Então execute o Jupyter Notebook novamente.\n",
    "\n",
    "Evite executar a célula abaixo muitas vezes seguidas ou seu acesso pode ser bloqueado pelo site."
   ]
  },
  {
   "cell_type": "code",
   "execution_count": 13,
   "metadata": {},
   "outputs": [],
   "source": [
    "# Abre a conexão com o site e faz a pesquisa\n",
    "driver.get(\"https://www.indeed.com.br/jobs?q=data+science&l=brasil\")\n",
    "driver.implicitly_wait(15)"
   ]
  },
  {
   "cell_type": "code",
   "execution_count": 14,
   "metadata": {},
   "outputs": [],
   "source": [
    "# Gravamos o resultado do scraping\n",
    "resultado = driver.find_elements_by_class_name(\"result\")"
   ]
  },
  {
   "cell_type": "code",
   "execution_count": 15,
   "metadata": {},
   "outputs": [
    {
     "data": {
      "text/plain": [
       "list"
      ]
     },
     "execution_count": 15,
     "metadata": {},
     "output_type": "execute_result"
    }
   ],
   "source": [
    "# Tipo do objeto\n",
    "type(resultado)"
   ]
  },
  {
   "cell_type": "code",
   "execution_count": 16,
   "metadata": {},
   "outputs": [
    {
     "data": {
      "text/plain": [
       "[<selenium.webdriver.remote.webelement.WebElement (session=\"b8cfe5037499d3aec560abc1a765cbc4\", element=\"818de106-e83d-4d59-b93f-36202b4ee714\")>,\n",
       " <selenium.webdriver.remote.webelement.WebElement (session=\"b8cfe5037499d3aec560abc1a765cbc4\", element=\"d1137413-08bd-4aee-9137-3f6f86c23f07\")>,\n",
       " <selenium.webdriver.remote.webelement.WebElement (session=\"b8cfe5037499d3aec560abc1a765cbc4\", element=\"e1a68b96-13a3-4d92-8169-d6d2d62da09a\")>,\n",
       " <selenium.webdriver.remote.webelement.WebElement (session=\"b8cfe5037499d3aec560abc1a765cbc4\", element=\"f3c3f776-c5fa-4144-994f-58ab95e67869\")>,\n",
       " <selenium.webdriver.remote.webelement.WebElement (session=\"b8cfe5037499d3aec560abc1a765cbc4\", element=\"ce8640d6-5f0a-495d-9fe0-a30a9e2279e5\")>,\n",
       " <selenium.webdriver.remote.webelement.WebElement (session=\"b8cfe5037499d3aec560abc1a765cbc4\", element=\"1551697f-fcbf-4b91-97d7-0f43575afa34\")>,\n",
       " <selenium.webdriver.remote.webelement.WebElement (session=\"b8cfe5037499d3aec560abc1a765cbc4\", element=\"d923da3a-f1a7-47d7-abbc-9f345a84463a\")>,\n",
       " <selenium.webdriver.remote.webelement.WebElement (session=\"b8cfe5037499d3aec560abc1a765cbc4\", element=\"b675d87c-b514-4a5a-97ab-21a5bf1c4b62\")>,\n",
       " <selenium.webdriver.remote.webelement.WebElement (session=\"b8cfe5037499d3aec560abc1a765cbc4\", element=\"2351a626-207b-48dc-83c3-50eb13d999a7\")>,\n",
       " <selenium.webdriver.remote.webelement.WebElement (session=\"b8cfe5037499d3aec560abc1a765cbc4\", element=\"b2b550aa-c292-4419-af75-9298f4e9b05b\")>]"
      ]
     },
     "execution_count": 16,
     "metadata": {},
     "output_type": "execute_result"
    }
   ],
   "source": [
    "# Temos apenas os elementos web. Precisamos agora extrair o texto desses elementos\n",
    "resultado"
   ]
  },
  {
   "cell_type": "markdown",
   "metadata": {},
   "source": [
    "Agora extraímos os dados do nosso interesse."
   ]
  },
  {
   "cell_type": "code",
   "execution_count": 17,
   "metadata": {},
   "outputs": [],
   "source": [
    "# Loop pelos resultados do scraping e extração dos dados nas tags HTML do nosso interesse\n",
    "for vaga in resultado:\n",
    "    \n",
    "    # Primeiro coletamos o elemento HTML interno\n",
    "    result_html = vaga.get_attribute('innerHTML')\n",
    "    \n",
    "    # Fazemos então o parser do código HTML\n",
    "    soup = BeautifulSoup(result_html, 'html.parser')\n",
    "    \n",
    "    # Buscamos as tags para análise. \n",
    "    # Usaremos blocos try/except para evitar erros na execução, no caso de ua informação não estar disponível na vaga\n",
    "    \n",
    "    # Título da vaga\n",
    "    try:\n",
    "        title = soup.find(\"a\", class_ = \"jobtitle\").text.replace('\\n', '')\n",
    "    except:\n",
    "        title = 'None'\n",
    "    \n",
    "    # Localidade\n",
    "    try:\n",
    "        location = soup.find(class_ = \"location\").text\n",
    "    except:\n",
    "        location = 'None'\n",
    "    \n",
    "    # Empresa\n",
    "    try:\n",
    "        company = soup.find(class_ = \"company\").text.replace('\\n', '').strip()\n",
    "    except:\n",
    "        company = 'None'\n",
    "    \n",
    "    # Salário\n",
    "    try:\n",
    "        salary = soup.find(\"a\", class_ = \"salary\").text.replace('\\n', '').strip()\n",
    "    except:\n",
    "        salary = 'None'\n",
    "    \n",
    "    # Tipo de pesquisa (orgânica ou patrocinada)\n",
    "    try:\n",
    "        sponsored = soup.find(\"a\", class_ = \"sponsoredGray\").text\n",
    "        sponsored = \"Sponsored\"\n",
    "    except:\n",
    "        sponsored = 'Organic'\n",
    "        \n",
    "    # Aqui buscamos o sumário\n",
    "    sum_div = vaga.find_elements_by_class_name(\"summary\")[0]\n",
    "    sum_div.click()\n",
    "    \n",
    "    # Descrição da vaga\n",
    "    job_desc = driver.find_element_by_id('vjs-desc').text\n",
    "    \n",
    "    # Gravamos o resultado em nosso dataframe\n",
    "    dados = dados.append({\"Titulo\":title, \n",
    "                          \"Localidade\":location, \n",
    "                          \"Empresa\":company, \n",
    "                          \"Salario\":salary, \n",
    "                          \"Tipo_Pesquisa\":sponsored, \n",
    "                          \"Desc\":job_desc}, \n",
    "                         ignore_index = True)"
   ]
  },
  {
   "cell_type": "code",
   "execution_count": 18,
   "metadata": {},
   "outputs": [
    {
     "data": {
      "text/plain": [
       "(10, 6)"
      ]
     },
     "execution_count": 18,
     "metadata": {},
     "output_type": "execute_result"
    }
   ],
   "source": [
    "# Shape\n",
    "dados.shape"
   ]
  },
  {
   "cell_type": "code",
   "execution_count": 19,
   "metadata": {},
   "outputs": [
    {
     "data": {
      "text/html": [
       "<div>\n",
       "<style scoped>\n",
       "    .dataframe tbody tr th:only-of-type {\n",
       "        vertical-align: middle;\n",
       "    }\n",
       "\n",
       "    .dataframe tbody tr th {\n",
       "        vertical-align: top;\n",
       "    }\n",
       "\n",
       "    .dataframe thead th {\n",
       "        text-align: right;\n",
       "    }\n",
       "</style>\n",
       "<table border=\"1\" class=\"dataframe\">\n",
       "  <thead>\n",
       "    <tr style=\"text-align: right;\">\n",
       "      <th></th>\n",
       "      <th>Titulo</th>\n",
       "      <th>Localidade</th>\n",
       "      <th>Empresa</th>\n",
       "      <th>Salario</th>\n",
       "      <th>Tipo_Pesquisa</th>\n",
       "      <th>Desc</th>\n",
       "    </tr>\n",
       "  </thead>\n",
       "  <tbody>\n",
       "    <tr>\n",
       "      <th>0</th>\n",
       "      <td>DATA SCIENCE CONSULTANT SAO PAULO</td>\n",
       "      <td>São Paulo, SP</td>\n",
       "      <td>managementsolutions</td>\n",
       "      <td>None</td>\n",
       "      <td>Organic</td>\n",
       "      <td>Brazil\\n\\nDATA SCIENCE CONSULTANT SAO PAULO\\n\\...</td>\n",
       "    </tr>\n",
       "    <tr>\n",
       "      <th>1</th>\n",
       "      <td>Data Science</td>\n",
       "      <td>São Bernardo do Campo, SP</td>\n",
       "      <td>Atento Corporate</td>\n",
       "      <td>None</td>\n",
       "      <td>Organic</td>\n",
       "      <td>Cientista de Dados, venha fazer parte da nossa...</td>\n",
       "    </tr>\n",
       "    <tr>\n",
       "      <th>2</th>\n",
       "      <td>Data Science Coordinator</td>\n",
       "      <td>Curitiba, PR</td>\n",
       "      <td>The Bridge</td>\n",
       "      <td>None</td>\n",
       "      <td>Organic</td>\n",
       "      <td>Multinacional em Curitiba procura Coordenadore...</td>\n",
       "    </tr>\n",
       "    <tr>\n",
       "      <th>3</th>\n",
       "      <td>Applied Data Scientist</td>\n",
       "      <td>São Paulo, SP</td>\n",
       "      <td>dunnhumby</td>\n",
       "      <td>None</td>\n",
       "      <td>Organic</td>\n",
       "      <td>dunnhumby is the world’s leading customer scie...</td>\n",
       "    </tr>\n",
       "    <tr>\n",
       "      <th>4</th>\n",
       "      <td>Data Scientist en Vie Brésil (H/F)</td>\n",
       "      <td>São Paulo, SP</td>\n",
       "      <td>Keyrus</td>\n",
       "      <td>None</td>\n",
       "      <td>Organic</td>\n",
       "      <td>Vos missions :\\nAccompagner nos clients dans l...</td>\n",
       "    </tr>\n",
       "  </tbody>\n",
       "</table>\n",
       "</div>"
      ],
      "text/plain": [
       "                               Titulo                 Localidade  \\\n",
       "0   DATA SCIENCE CONSULTANT SAO PAULO              São Paulo, SP   \n",
       "1                        Data Science  São Bernardo do Campo, SP   \n",
       "2            Data Science Coordinator               Curitiba, PR   \n",
       "3              Applied Data Scientist              São Paulo, SP   \n",
       "4  Data Scientist en Vie Brésil (H/F)              São Paulo, SP   \n",
       "\n",
       "               Empresa Salario Tipo_Pesquisa  \\\n",
       "0  managementsolutions    None       Organic   \n",
       "1     Atento Corporate    None       Organic   \n",
       "2           The Bridge    None       Organic   \n",
       "3            dunnhumby    None       Organic   \n",
       "4               Keyrus    None       Organic   \n",
       "\n",
       "                                                Desc  \n",
       "0  Brazil\\n\\nDATA SCIENCE CONSULTANT SAO PAULO\\n\\...  \n",
       "1  Cientista de Dados, venha fazer parte da nossa...  \n",
       "2  Multinacional em Curitiba procura Coordenadore...  \n",
       "3  dunnhumby is the world’s leading customer scie...  \n",
       "4  Vos missions :\\nAccompagner nos clients dans l...  "
      ]
     },
     "execution_count": 19,
     "metadata": {},
     "output_type": "execute_result"
    }
   ],
   "source": [
    "# Visualizamos os dados\n",
    "dados.head()"
   ]
  },
  {
   "cell_type": "markdown",
   "metadata": {},
   "source": [
    "Legal. Temos dados para trabalhar! Vamos salvar em disco para não perder os dados ao fechar o Jupyter Notebook."
   ]
  },
  {
   "cell_type": "code",
   "execution_count": 20,
   "metadata": {},
   "outputs": [],
   "source": [
    "# Salvamos os dados em disco\n",
    "dados.to_csv('resultado/dados.csv', encoding = \"utf-8\", index = False)"
   ]
  },
  {
   "cell_type": "markdown",
   "metadata": {},
   "source": [
    "## Análise de Dados"
   ]
  },
  {
   "cell_type": "code",
   "execution_count": 21,
   "metadata": {},
   "outputs": [],
   "source": [
    "# Carregamos o dataset\n",
    "df = pd.read_csv(\"resultado/dados.csv\", encoding = \"utf-8\")"
   ]
  },
  {
   "cell_type": "code",
   "execution_count": 22,
   "metadata": {},
   "outputs": [
    {
     "data": {
      "text/plain": [
       "(10, 6)"
      ]
     },
     "execution_count": 22,
     "metadata": {},
     "output_type": "execute_result"
    }
   ],
   "source": [
    "# Shape\n",
    "df.shape"
   ]
  },
  {
   "cell_type": "code",
   "execution_count": 23,
   "metadata": {},
   "outputs": [
    {
     "data": {
      "text/html": [
       "<div>\n",
       "<style scoped>\n",
       "    .dataframe tbody tr th:only-of-type {\n",
       "        vertical-align: middle;\n",
       "    }\n",
       "\n",
       "    .dataframe tbody tr th {\n",
       "        vertical-align: top;\n",
       "    }\n",
       "\n",
       "    .dataframe thead th {\n",
       "        text-align: right;\n",
       "    }\n",
       "</style>\n",
       "<table border=\"1\" class=\"dataframe\">\n",
       "  <thead>\n",
       "    <tr style=\"text-align: right;\">\n",
       "      <th></th>\n",
       "      <th>Titulo</th>\n",
       "      <th>Localidade</th>\n",
       "      <th>Empresa</th>\n",
       "      <th>Salario</th>\n",
       "      <th>Tipo_Pesquisa</th>\n",
       "      <th>Desc</th>\n",
       "    </tr>\n",
       "  </thead>\n",
       "  <tbody>\n",
       "    <tr>\n",
       "      <th>0</th>\n",
       "      <td>DATA SCIENCE CONSULTANT SAO PAULO</td>\n",
       "      <td>São Paulo, SP</td>\n",
       "      <td>managementsolutions</td>\n",
       "      <td>None</td>\n",
       "      <td>Organic</td>\n",
       "      <td>Brazil\\n\\nDATA SCIENCE CONSULTANT SAO PAULO\\n\\...</td>\n",
       "    </tr>\n",
       "    <tr>\n",
       "      <th>1</th>\n",
       "      <td>Data Science</td>\n",
       "      <td>São Bernardo do Campo, SP</td>\n",
       "      <td>Atento Corporate</td>\n",
       "      <td>None</td>\n",
       "      <td>Organic</td>\n",
       "      <td>Cientista de Dados, venha fazer parte da nossa...</td>\n",
       "    </tr>\n",
       "    <tr>\n",
       "      <th>2</th>\n",
       "      <td>Data Science Coordinator</td>\n",
       "      <td>Curitiba, PR</td>\n",
       "      <td>The Bridge</td>\n",
       "      <td>None</td>\n",
       "      <td>Organic</td>\n",
       "      <td>Multinacional em Curitiba procura Coordenadore...</td>\n",
       "    </tr>\n",
       "    <tr>\n",
       "      <th>3</th>\n",
       "      <td>Applied Data Scientist</td>\n",
       "      <td>São Paulo, SP</td>\n",
       "      <td>dunnhumby</td>\n",
       "      <td>None</td>\n",
       "      <td>Organic</td>\n",
       "      <td>dunnhumby is the world’s leading customer scie...</td>\n",
       "    </tr>\n",
       "    <tr>\n",
       "      <th>4</th>\n",
       "      <td>Data Scientist en Vie Brésil (H/F)</td>\n",
       "      <td>São Paulo, SP</td>\n",
       "      <td>Keyrus</td>\n",
       "      <td>None</td>\n",
       "      <td>Organic</td>\n",
       "      <td>Vos missions :\\nAccompagner nos clients dans l...</td>\n",
       "    </tr>\n",
       "  </tbody>\n",
       "</table>\n",
       "</div>"
      ],
      "text/plain": [
       "                               Titulo                 Localidade  \\\n",
       "0   DATA SCIENCE CONSULTANT SAO PAULO              São Paulo, SP   \n",
       "1                        Data Science  São Bernardo do Campo, SP   \n",
       "2            Data Science Coordinator               Curitiba, PR   \n",
       "3              Applied Data Scientist              São Paulo, SP   \n",
       "4  Data Scientist en Vie Brésil (H/F)              São Paulo, SP   \n",
       "\n",
       "               Empresa Salario Tipo_Pesquisa  \\\n",
       "0  managementsolutions    None       Organic   \n",
       "1     Atento Corporate    None       Organic   \n",
       "2           The Bridge    None       Organic   \n",
       "3            dunnhumby    None       Organic   \n",
       "4               Keyrus    None       Organic   \n",
       "\n",
       "                                                Desc  \n",
       "0  Brazil\\n\\nDATA SCIENCE CONSULTANT SAO PAULO\\n\\...  \n",
       "1  Cientista de Dados, venha fazer parte da nossa...  \n",
       "2  Multinacional em Curitiba procura Coordenadore...  \n",
       "3  dunnhumby is the world’s leading customer scie...  \n",
       "4  Vos missions :\\nAccompagner nos clients dans l...  "
      ]
     },
     "execution_count": 23,
     "metadata": {},
     "output_type": "execute_result"
    }
   ],
   "source": [
    "# Visualiza os dados\n",
    "df.head()"
   ]
  },
  {
   "cell_type": "markdown",
   "metadata": {},
   "source": [
    "### Tarefa 1: Qual o tipo de vaga mostrado na pesquisa, orgânica ou patrocinada?"
   ]
  },
  {
   "cell_type": "code",
   "execution_count": 24,
   "metadata": {},
   "outputs": [
    {
     "data": {
      "text/plain": [
       "Organic    10\n",
       "Name: Tipo_Pesquisa, dtype: int64"
      ]
     },
     "execution_count": 24,
     "metadata": {},
     "output_type": "execute_result"
    }
   ],
   "source": [
    "# Vamos contar o total de registros por valor da coluna \"Tipo_Pesquisa\"\n",
    "df[\"Tipo_Pesquisa\"].value_counts()"
   ]
  },
  {
   "cell_type": "markdown",
   "metadata": {},
   "source": [
    "Todas as vagas foram orgânicas."
   ]
  },
  {
   "cell_type": "markdown",
   "metadata": {},
   "source": [
    "### Tarefa 2: Quais empresas tem o maior número de vagas listadas?"
   ]
  },
  {
   "cell_type": "code",
   "execution_count": 25,
   "metadata": {},
   "outputs": [],
   "source": [
    "# Agrupa o dataset por empresa\n",
    "grupo1 = df.groupby(\"Empresa\").count()[\"Titulo\"].sort_values(ascending = False)[:20]"
   ]
  },
  {
   "cell_type": "code",
   "execution_count": 26,
   "metadata": {},
   "outputs": [
    {
     "data": {
      "text/plain": [
       "Empresa\n",
       "dunnhumby              2\n",
       "managementsolutions    1\n",
       "The Bridge             1\n",
       "Keyrus                 1\n",
       "DSM                    1\n",
       "Name: Titulo, dtype: int64"
      ]
     },
     "execution_count": 26,
     "metadata": {},
     "output_type": "execute_result"
    }
   ],
   "source": [
    "# Visualiza os dados\n",
    "grupo1.head()"
   ]
  },
  {
   "cell_type": "code",
   "execution_count": 27,
   "metadata": {},
   "outputs": [
    {
     "data": {
      "text/plain": [
       "<matplotlib.axes._subplots.AxesSubplot at 0x7fa9504da310>"
      ]
     },
     "execution_count": 27,
     "metadata": {},
     "output_type": "execute_result"
    },
    {
     "data": {
      "image/png": "[encoded data removed]",
      "text/plain": [
       "<Figure size 1296x432 with 1 Axes>"
      ]
     },
     "metadata": {
      "needs_background": "light"
     },
     "output_type": "display_data"
    }
   ],
   "source": [
    "# Gráfico\n",
    "grupo1.plot(kind = \"bar\", figsize = (18,6), color = \"green\", rot = 60)"
   ]
  },
  {
   "cell_type": "markdown",
   "metadata": {},
   "source": [
    "### Tarefa 3: Qual localidade tem o maior número de vagas listadas?"
   ]
  },
  {
   "cell_type": "code",
   "execution_count": 28,
   "metadata": {},
   "outputs": [],
   "source": [
    "# Busca localidade com mais vagas\n",
    "grupo2 = df.groupby(\"Localidade\").count()[\"Titulo\"].sort_values(ascending = False)[:20]"
   ]
  },
  {
   "cell_type": "code",
   "execution_count": 29,
   "metadata": {},
   "outputs": [
    {
     "data": {
      "text/plain": [
       "Localidade\n",
       "São Paulo, SP                7\n",
       "São Bernardo do Campo, SP    1\n",
       "Mairinque, SP                1\n",
       "Curitiba, PR                 1\n",
       "Name: Titulo, dtype: int64"
      ]
     },
     "execution_count": 29,
     "metadata": {},
     "output_type": "execute_result"
    }
   ],
   "source": [
    "# Visualiza os dados\n",
    "grupo2.head()"
   ]
  },
  {
   "cell_type": "code",
   "execution_count": 30,
   "metadata": {},
   "outputs": [
    {
     "data": {
      "text/plain": [
       "<matplotlib.axes._subplots.AxesSubplot at 0x7fa948c4c490>"
      ]
     },
     "execution_count": 30,
     "metadata": {},
     "output_type": "execute_result"
    },
    {
     "data": {
      "image/png": "[encoded data removed]",
      "text/plain": [
       "<Figure size 1296x432 with 1 Axes>"
      ]
     },
     "metadata": {
      "needs_background": "light"
     },
     "output_type": "display_data"
    }
   ],
   "source": [
    "# Gráfico\n",
    "grupo2.plot(kind = \"bar\", figsize = (18,6), color = \"blue\", rot = 30)"
   ]
  },
  {
   "cell_type": "markdown",
   "metadata": {},
   "source": [
    "### Tarefa 4: Quais os skills mais comuns nas descrições das vagas?"
   ]
  },
  {
   "cell_type": "markdown",
   "metadata": {},
   "source": [
    "Agora aplicamos Processamento de Linguagem Natural para extrair alguns insights das descrições das vagas."
   ]
  },
  {
   "cell_type": "code",
   "execution_count": 31,
   "metadata": {},
   "outputs": [],
   "source": [
    "# Função de limpeza dos dados\n",
    "def limpa_dados(desc):\n",
    "    desc = word_tokenize(desc)\n",
    "    desc = [word.lower() for word in desc if word.isalpha() and len(word) > 2]\n",
    "    desc = [word for word in desc if word not in stop_words_pt]\n",
    "    desc = [word for word in desc if word not in stop_words_en]\n",
    "    return desc"
   ]
  },
  {
   "cell_type": "code",
   "execution_count": 32,
   "metadata": {},
   "outputs": [],
   "source": [
    "# Vamos definir a lista de stopwords em português\n",
    "stop_words_pt = stopwords.words('portuguese')"
   ]
  },
  {
   "cell_type": "code",
   "execution_count": 33,
   "metadata": {},
   "outputs": [],
   "source": [
    "# Vamos definir a lista de stopwords em inglês\n",
    "stop_words_en = stopwords.words('english')"
   ]
  },
  {
   "cell_type": "code",
   "execution_count": 34,
   "metadata": {},
   "outputs": [],
   "source": [
    "# Aplicamos a função de limpeza a coluna de descrição da vaga\n",
    "desc_vagas = df[\"Desc\"].apply(limpa_dados)"
   ]
  },
  {
   "cell_type": "code",
   "execution_count": 35,
   "metadata": {},
   "outputs": [
    {
     "data": {
      "text/plain": [
       "0    [brazil, data, science, consultant, sao, paulo...\n",
       "1    [cientista, dados, venha, fazer, parte, equipe...\n",
       "2    [multinacional, curitiba, procura, coordenador...\n",
       "3    [dunnhumby, world, leading, customer, science,...\n",
       "4    [missions, accompagner, clients, dans, formali...\n",
       "Name: Desc, dtype: object"
      ]
     },
     "execution_count": 35,
     "metadata": {},
     "output_type": "execute_result"
    }
   ],
   "source": [
    "# Visualiza os dados\n",
    "desc_vagas.head()"
   ]
  },
  {
   "cell_type": "code",
   "execution_count": 36,
   "metadata": {},
   "outputs": [],
   "source": [
    "# Vamos sumarizar as descrições das vagas\n",
    "desc_itens = desc_vagas.apply(Counter).sum().items()"
   ]
  },
  {
   "cell_type": "code",
   "execution_count": 37,
   "metadata": {},
   "outputs": [],
   "source": [
    "# Ordenamos o resultado\n",
    "desc_itens = sorted(desc_itens, key = lambda kv: kv[1], reverse = True)"
   ]
  },
  {
   "cell_type": "code",
   "execution_count": 38,
   "metadata": {},
   "outputs": [],
   "source": [
    "# Criamos uma série\n",
    "desc_itens_serie = pd.Series({k: v for k, v in desc_itens})"
   ]
  },
  {
   "cell_type": "code",
   "execution_count": 39,
   "metadata": {},
   "outputs": [
    {
     "data": {
      "text/plain": [
       "data          80\n",
       "client        30\n",
       "science       28\n",
       "work          25\n",
       "business      23\n",
       "dunnhumby     23\n",
       "team          21\n",
       "clients       21\n",
       "experience    18\n",
       "manutenção    18\n",
       "working       15\n",
       "best          13\n",
       "solutions     13\n",
       "build         13\n",
       "projects      12\n",
       "dtype: int64"
      ]
     },
     "execution_count": 39,
     "metadata": {},
     "output_type": "execute_result"
    }
   ],
   "source": [
    "# Visualizamos os dados, com a contagem de palavras mais frequentes nas descrições das vagas\n",
    "desc_itens_serie.head(15)"
   ]
  },
  {
   "cell_type": "code",
   "execution_count": 40,
   "metadata": {},
   "outputs": [],
   "source": [
    "# Vamos criar uma lista de skills e pesquisar como eles aparecem nas descrições das vagas\n",
    "# Usamoas as palavras em minúsculo pois ao limpar os dados convertemos tudo para minúsculo\n",
    "skills = [\"python\", \"statistics\", \"analytics\", \"business\", \"projects\", \"develop\"]"
   ]
  },
  {
   "cell_type": "code",
   "execution_count": 41,
   "metadata": {},
   "outputs": [],
   "source": [
    "# Filtramos a série com os skills\n",
    "filtro_skills = desc_itens_serie.filter(items = skills)"
   ]
  },
  {
   "cell_type": "code",
   "execution_count": 42,
   "metadata": {},
   "outputs": [
    {
     "data": {
      "text/plain": [
       "<matplotlib.axes._subplots.AxesSubplot at 0x7fa98986b990>"
      ]
     },
     "execution_count": 42,
     "metadata": {},
     "output_type": "execute_result"
    },
    {
     "data": {
      "image/png": "[encoded data removed]",
      "text/plain": [
       "<Figure size 1296x432 with 1 Axes>"
      ]
     },
     "metadata": {
      "needs_background": "light"
     },
     "output_type": "display_data"
    }
   ],
   "source": [
    "# Criamos o plot\n",
    "filtro_skills.plot(kind = 'bar', figsize = (18,6), color = \"magenta\", rot = 30)"
   ]
  },
  {
   "cell_type": "markdown",
   "metadata": {},
   "source": [
    "A palavra \"Python\" aparece com frequência em quase todas as vagas, superando a palavra \"Estatística\" e no mesmo nível da palavra \"Analytics\". As palavras \"projects\" e \"develop\" também aparecem com frequência.\n",
    "\n",
    "Mas a palavra que aparece com alta frequência nas descrições das vagas é \"Business\". Por que será?\n",
    "\n",
    "Daqui em diante é com você. Pesquise por outros termos, aplique outros filtros, crie outros gráficos. Lembre-se que você pode criar diversos arquivos csv com o scraping de diferentes profissões em diferentes cidades e depois concatenar esses arquivos criando um único dataframe, por exemplo. \n",
    "\n",
    "Será que uma empresa de recolocação ou setor de RH não gostaria de ter um projeto como esse?"
   ]
  },
  {
   "cell_type": "markdown",
   "metadata": {},
   "source": [
    "# Fim"
   ]
  }
 ],
 "metadata": {
  "kernelspec": {
   "display_name": "Python 3.11.0 64-bit",
   "language": "python",
   "name": "python3"
  },
  "language_info": {
   "codemirror_mode": {
    "name": "ipython",
    "version": 3
   },
   "file_extension": ".py",
   "mimetype": "text/x-python",
   "name": "python",
   "nbconvert_exporter": "python",
   "pygments_lexer": "ipython3",
   "version": "3.11.0"
  },
  "vscode": {
   "interpreter": {
    "hash": "c261aea317cc0286b3b3261fbba9abdec21eaa57589985bb7a274bf54d6cc0a7"
   }
  }
 },
 "nbformat": 4,
 "nbformat_minor": 2
}
