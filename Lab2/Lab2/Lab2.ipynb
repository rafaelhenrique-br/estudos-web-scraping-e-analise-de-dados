{
 "cells": [
  {
   "cell_type": "markdown",
   "metadata": {},
   "source": [
    "<strong><b><font size=\"5\">Data Science Academy</font></b></strong>"
   ]
  },
  {
   "cell_type": "markdown",
   "metadata": {},
   "source": [
    "<strong><b><font size=\"5\">Web Scraping e Análise de Dados</font></b></strong>"
   ]
  },
  {
   "cell_type": "markdown",
   "metadata": {},
   "source": [
    "<strong><b><font size=\"5\">Lab 2</font></b></strong>\n",
    "\n",
    "<strong><b><font size=\"4\">Web Scraping e Análise Estatística - Avaliando o Desempenho dos Participantes em Corridas de 10 KM com Dados de Sensores RFID</font></b></strong>"
   ]
  },
  {
   "cell_type": "markdown",
   "metadata": {},
   "source": [
    "![title](imagens/lab2.png)"
   ]
  },
  {
   "cell_type": "markdown",
   "metadata": {},
   "source": [
    "## Definição do Problema\n",
    "\n",
    "Você gosta de correr? Corrida é um dos esportes mais praticados em todo mundo, além de uma atividade saudável e prazerosa.\n",
    "\n",
    "Neste Lab vamos coletar dados reais de participantes de uma corrida de 10 KM realizada em Hillsboro no Oregon, EUA, em junho de 2017. \n",
    "\n",
    "Resumo da corrida:\n",
    "\n",
    "- Pessoas que completaram a corrida: 577\n",
    "- Homens: 414\n",
    "- Mulheres: 163\n",
    "\n",
    "O objetivo desta análise é encontrar:\n",
    "    \n",
    "- O tempo médio de conclusão da corrida.\n",
    "- Se os tempos de chegada dos corredores seguem uma distribuição normal.\n",
    "- Analisar se há diferença de desempenho entre homens e mulheres de várias faixas etárias.\n",
    "\n",
    "Os tempos registrados na corrida (bem como outros dados) são bem precisos pois os participantes usaram sensores RFID de onde os dados foram extraídos e disponibilizados na web. Mais detalhes sobre o uso dos sensores RFID aqui:\n",
    "\n",
    "https://www.hubertiming.com/runners/faq"
   ]
  },
  {
   "cell_type": "markdown",
   "metadata": {},
   "source": [
    "## Fonte de Dados\n",
    "\n",
    "Como fonte de dados usaremos o web site <a href=\"https://www.hubertiming.com/\">Huber Timing</a> que contém o resultado das corridas que acontecem nos EUA, bem como a agenda de novos eventos.\n",
    "\n",
    "Aqui a página com o resultado da corrida que faremos a análise:\n",
    "\n",
    "https://www.hubertiming.com/results/2017GPTR10K"
   ]
  },
  {
   "cell_type": "markdown",
   "metadata": {},
   "source": [
    "## Carregando os Pacotes Usados Neste Jupyter Notebook"
   ]
  },
  {
   "cell_type": "code",
   "execution_count": 1,
   "metadata": {},
   "outputs": [],
   "source": [
    "# Versão da Linguagem Python\n",
    "from platform import python_version\n",
    "print('Versão da Linguagem Python Usada Neste Jupyter Notebook:', python_version())"
   ]
  },
  {
   "cell_type": "code",
   "execution_count": 2,
   "metadata": {},
   "outputs": [],
   "source": [
    "# Para atualizar um pacote, execute o comando abaixo no terminal ou prompt de comando:\n",
    "# pip install -U nome_pacote\n",
    "\n",
    "# Para instalar a versão exata de um pacote, execute o comando abaixo no terminal ou prompt de comando:\n",
    "# pip install nome_pacote==versão_desejada\n",
    "\n",
    "# Depois de instalar ou atualizar o pacote, reinicie o jupyter notebook, se necessário."
   ]
  },
  {
   "cell_type": "code",
   "execution_count": 3,
   "metadata": {},
   "outputs": [],
   "source": [
    "# Instala o pacote watermark. \n",
    "# Esse pacote é usado para gravar as versões de outros pacotes usados neste jupyter notebook.\n",
    "!pip install -q -U watermark"
   ]
  },
  {
   "cell_type": "code",
   "execution_count": 4,
   "metadata": {},
   "outputs": [],
   "source": [
    "# Usaremos o pacote Pingouin para algumas das análises estatísticas\n",
    "# https://pingouin-stats.org/index.html\n",
    "!pip install -q pingouin"
   ]
  },
  {
   "cell_type": "code",
   "execution_count": 5,
   "metadata": {
    "scrolled": true
   },
   "outputs": [],
   "source": [
    "# Imports\n",
    "import re\n",
    "import requests\n",
    "import matplotlib as m\n",
    "import numpy as np\n",
    "import pandas as pd\n",
    "import pingouin as pg\n",
    "import matplotlib.pyplot as plt\n",
    "import seaborn as sns\n",
    "from bs4 import BeautifulSoup as bs\n",
    "from urllib.request import urlopen\n",
    "from scipy import stats\n",
    "\n",
    "# Imports para formatação dos gráficos\n",
    "sns.set_style('whitegrid')\n",
    "%matplotlib inline"
   ]
  },
  {
   "cell_type": "code",
   "execution_count": 6,
   "metadata": {},
   "outputs": [
    {
     "name": "stdout",
     "output_type": "stream",
     "text": [
      "requests   2.22.0\n",
      "pingouin   0.3.4\n",
      "re         2.2.1\n",
      "numpy      1.18.5\n",
      "seaborn    0.10.1\n",
      "matplotlib 3.2.1\n",
      "pandas     1.0.4\n",
      "Data Science Academy\n"
     ]
    }
   ],
   "source": [
    "# Versões dos pacotes usados neste jupyter notebook\n",
    "%reload_ext watermark\n",
    "%watermark -a \"Data Science Academy\" --iversions"
   ]
  },
  {
   "cell_type": "markdown",
   "metadata": {},
   "source": [
    "## Web Scraping"
   ]
  },
  {
   "cell_type": "code",
   "execution_count": 7,
   "metadata": {},
   "outputs": [],
   "source": [
    "# Definindo a URL com o resultado da corrida\n",
    "url = 'https://www.hubertiming.com/results/2017GPTR10K'"
   ]
  },
  {
   "cell_type": "code",
   "execution_count": 8,
   "metadata": {},
   "outputs": [],
   "source": [
    "# Abre a conexão com a url\n",
    "html = urlopen(url)"
   ]
  },
  {
   "cell_type": "code",
   "execution_count": 9,
   "metadata": {},
   "outputs": [],
   "source": [
    "# Extrai o código HTML\n",
    "soup = bs(html,'lxml')"
   ]
  },
  {
   "cell_type": "code",
   "execution_count": 10,
   "metadata": {},
   "outputs": [],
   "source": [
    "# Extrai o texto do código html\n",
    "texto = soup.get_text()"
   ]
  },
  {
   "cell_type": "code",
   "execution_count": 11,
   "metadata": {},
   "outputs": [
    {
     "name": "stdout",
     "output_type": "stream",
     "text": [
      "[<tr colspan=\"2\">\n",
      "<b>10K:</b>\n",
      "</tr>, <tr>\n",
      "<td>Finishers:</td>\n",
      "<td>577</td>\n",
      "</tr>, <tr>\n",
      "<td>Male:</td>\n",
      "<td>414</td>\n",
      "</tr>, <tr>\n",
      "<td>Female:</td>\n",
      "<td>163</td>\n",
      "</tr>, <tr class=\"header\">\n",
      "<th>Place</th>\n",
      "<th>Bib</th>\n",
      "<th>Name</th>\n",
      "<th>Gender</th>\n",
      "<th>City</th>\n",
      "<th>State</th>\n",
      "<th>Chip Time</th>\n",
      "<th>Chip Pace</th>\n",
      "<th>Gun Time</th>\n",
      "<th>Team</th>\n",
      "</tr>, <tr>\n",
      "<td>1</td>\n",
      "<td>814</td>\n",
      "<td>\r\n",
      "\r\n",
      "                    JARED WILSON\r\n",
      "\r\n",
      "                </td>\n",
      "<td>M</td>\n",
      "<td>TIGARD</td>\n",
      "<td>OR</td>\n",
      "<td>36:21</td>\n",
      "<td>5:51</td>\n",
      "<td>36:24</td>\n",
      "<td></td>\n",
      "</tr>, <tr>\n",
      "<td>2</td>\n",
      "<td>573</td>\n",
      "<td>\r\n",
      "\r\n",
      "                    NATHAN A SUSTERSIC\r\n",
      "\r\n",
      "                </td>\n",
      "<td>M</td>\n",
      "<td>PORTLAND</td>\n",
      "<td>OR</td>\n",
      "<td>36:42</td>\n",
      "<td>5:55</td>\n",
      "<td>36:45</td>\n",
      "<td>\n",
      "<img class=\"teamThumbs\" src=\"/teamLogoThumbnail/logo?teamName=INTEL%20TEAM%20F&amp;raceId=1251&amp;state=OR\"/>\r\n",
      "                            INTEL TEAM F\r\n",
      "                        </td>\n",
      "</tr>, <tr>\n",
      "<td>3</td>\n",
      "<td>687</td>\n",
      "<td>\r\n",
      "\r\n",
      "                    FRANCISCO MAYA\r\n",
      "\r\n",
      "                </td>\n",
      "<td>M</td>\n",
      "<td>PORTLAND</td>\n",
      "<td>OR</td>\n",
      "<td>37:44</td>\n",
      "<td>6:05</td>\n",
      "<td>37:48</td>\n",
      "<td></td>\n",
      "</tr>, <tr>\n",
      "<td>4</td>\n",
      "<td>623</td>\n",
      "<td>\r\n",
      "\r\n",
      "                    PAUL MORROW\r\n",
      "\r\n",
      "                </td>\n",
      "<td>M</td>\n",
      "<td>BEAVERTON</td>\n",
      "<td>OR</td>\n",
      "<td>38:34</td>\n",
      "<td>6:13</td>\n",
      "<td>38:37</td>\n",
      "<td></td>\n",
      "</tr>, <tr>\n",
      "<td>5</td>\n",
      "<td>569</td>\n",
      "<td>\r\n",
      "\r\n",
      "                    DEREK G OSBORNE\r\n",
      "\r\n",
      "                </td>\n",
      "<td>M</td>\n",
      "<td>HILLSBORO</td>\n",
      "<td>OR</td>\n",
      "<td>39:21</td>\n",
      "<td>6:20</td>\n",
      "<td>39:24</td>\n",
      "<td>\n",
      "<img class=\"teamThumbs\" src=\"/teamLogoThumbnail/logo?teamName=INTEL%20TEAM%20F&amp;raceId=1251&amp;state=OR\"/>\r\n",
      "                            INTEL TEAM F\r\n",
      "                        </td>\n",
      "</tr>]\n"
     ]
    }
   ],
   "source": [
    "# Vamos visualizar as 10 primeiras linhas\n",
    "linhas = soup.find_all('tr')\n",
    "print(linhas[:10])"
   ]
  },
  {
   "cell_type": "markdown",
   "metadata": {},
   "source": [
    "## Limpeza e Transformação\n",
    "\n",
    "Agora começa o trabalho pesado. Não fique apenas executando código e compreenda o que está sendo feito. Se tiver dificuldades, pergunte! Temos vários canais de suporte a sua disposição."
   ]
  },
  {
   "cell_type": "markdown",
   "metadata": {},
   "source": [
    "Começaremos obtendo todas as linhas da tabela em forma de lista e depois converteremos essa lista em um dataframe para facilitar a manipulação."
   ]
  },
  {
   "cell_type": "code",
   "execution_count": 12,
   "metadata": {},
   "outputs": [],
   "source": [
    "# Loop\n",
    "for linha in linhas:\n",
    "    linha_td = linha.find_all('td')"
   ]
  },
  {
   "cell_type": "code",
   "execution_count": 13,
   "metadata": {},
   "outputs": [
    {
     "name": "stdout",
     "output_type": "stream",
     "text": [
      "[<td>577</td>, <td>443</td>, <td>\r\n",
      "\r\n",
      "                    LIBBY B MITCHELL\r\n",
      "\r\n",
      "                </td>, <td>F</td>, <td>HILLSBORO</td>, <td>OR</td>, <td>1:41:18</td>, <td>16:20</td>, <td>1:42:10</td>, <td></td>]\n"
     ]
    }
   ],
   "source": [
    "print(linha_td)"
   ]
  },
  {
   "cell_type": "markdown",
   "metadata": {},
   "source": [
    "Com expressões regulares em Python, vamos extrair os dados das tags HTML."
   ]
  },
  {
   "cell_type": "code",
   "execution_count": 14,
   "metadata": {},
   "outputs": [],
   "source": [
    "# Lista vazia para receber as linhas\n",
    "lista_linhas = []"
   ]
  },
  {
   "cell_type": "code",
   "execution_count": 15,
   "metadata": {},
   "outputs": [],
   "source": [
    "# Loop\n",
    "for linha in linhas:\n",
    "    cells = linha.find_all('td')\n",
    "    str_cells = str(cells)\n",
    "    clean = re.compile('<.*?>')\n",
    "    clean2 = (re.sub(clean, '', str_cells))\n",
    "    lista_linhas.append(clean2)"
   ]
  },
  {
   "cell_type": "code",
   "execution_count": 16,
   "metadata": {},
   "outputs": [
    {
     "name": "stdout",
     "output_type": "stream",
     "text": [
      "[577, 443, \r\n",
      "\r\n",
      "                    LIBBY B MITCHELL\r\n",
      "\r\n",
      "                , F, HILLSBORO, OR, 1:41:18, 16:20, 1:42:10, ]\n"
     ]
    }
   ],
   "source": [
    "print(clean2)"
   ]
  },
  {
   "cell_type": "markdown",
   "metadata": {},
   "source": [
    "Convertemos a lista em um dataframe e obtemos uma visão rápida das 10 primeiras linhas usando o Pandas."
   ]
  },
  {
   "cell_type": "code",
   "execution_count": 17,
   "metadata": {},
   "outputs": [],
   "source": [
    "# Convertemos a lista em dataframe\n",
    "df = pd.DataFrame(lista_linhas)"
   ]
  },
  {
   "cell_type": "code",
   "execution_count": 18,
   "metadata": {},
   "outputs": [
    {
     "data": {
      "text/html": [
       "<div>\n",
       "<style scoped>\n",
       "    .dataframe tbody tr th:only-of-type {\n",
       "        vertical-align: middle;\n",
       "    }\n",
       "\n",
       "    .dataframe tbody tr th {\n",
       "        vertical-align: top;\n",
       "    }\n",
       "\n",
       "    .dataframe thead th {\n",
       "        text-align: right;\n",
       "    }\n",
       "</style>\n",
       "<table border=\"1\" class=\"dataframe\">\n",
       "  <thead>\n",
       "    <tr style=\"text-align: right;\">\n",
       "      <th></th>\n",
       "      <th>0</th>\n",
       "    </tr>\n",
       "  </thead>\n",
       "  <tbody>\n",
       "    <tr>\n",
       "      <th>0</th>\n",
       "      <td>[]</td>\n",
       "    </tr>\n",
       "    <tr>\n",
       "      <th>1</th>\n",
       "      <td>[Finishers:, 577]</td>\n",
       "    </tr>\n",
       "    <tr>\n",
       "      <th>2</th>\n",
       "      <td>[Male:, 414]</td>\n",
       "    </tr>\n",
       "    <tr>\n",
       "      <th>3</th>\n",
       "      <td>[Female:, 163]</td>\n",
       "    </tr>\n",
       "    <tr>\n",
       "      <th>4</th>\n",
       "      <td>[]</td>\n",
       "    </tr>\n",
       "    <tr>\n",
       "      <th>5</th>\n",
       "      <td>[1, 814, \\r\\n\\r\\n                    JARED WIL...</td>\n",
       "    </tr>\n",
       "    <tr>\n",
       "      <th>6</th>\n",
       "      <td>[2, 573, \\r\\n\\r\\n                    NATHAN A ...</td>\n",
       "    </tr>\n",
       "    <tr>\n",
       "      <th>7</th>\n",
       "      <td>[3, 687, \\r\\n\\r\\n                    FRANCISCO...</td>\n",
       "    </tr>\n",
       "    <tr>\n",
       "      <th>8</th>\n",
       "      <td>[4, 623, \\r\\n\\r\\n                    PAUL MORR...</td>\n",
       "    </tr>\n",
       "    <tr>\n",
       "      <th>9</th>\n",
       "      <td>[5, 569, \\r\\n\\r\\n                    DEREK G O...</td>\n",
       "    </tr>\n",
       "  </tbody>\n",
       "</table>\n",
       "</div>"
      ],
      "text/plain": [
       "                                                   0\n",
       "0                                                 []\n",
       "1                                  [Finishers:, 577]\n",
       "2                                       [Male:, 414]\n",
       "3                                     [Female:, 163]\n",
       "4                                                 []\n",
       "5  [1, 814, \\r\\n\\r\\n                    JARED WIL...\n",
       "6  [2, 573, \\r\\n\\r\\n                    NATHAN A ...\n",
       "7  [3, 687, \\r\\n\\r\\n                    FRANCISCO...\n",
       "8  [4, 623, \\r\\n\\r\\n                    PAUL MORR...\n",
       "9  [5, 569, \\r\\n\\r\\n                    DEREK G O..."
      ]
     },
     "execution_count": 18,
     "metadata": {},
     "output_type": "execute_result"
    }
   ],
   "source": [
    "df.head(10)"
   ]
  },
  {
   "cell_type": "markdown",
   "metadata": {},
   "source": [
    "Claramente precisamos limpar os dados. Vamos ao trabalho."
   ]
  },
  {
   "cell_type": "code",
   "execution_count": 19,
   "metadata": {},
   "outputs": [],
   "source": [
    "# Dividindo cada linha e separando os dados a cada vírgula\n",
    "df1 = df[0].str.split(',', expand = True)"
   ]
  },
  {
   "cell_type": "code",
   "execution_count": 20,
   "metadata": {},
   "outputs": [
    {
     "data": {
      "text/html": [
       "<div>\n",
       "<style scoped>\n",
       "    .dataframe tbody tr th:only-of-type {\n",
       "        vertical-align: middle;\n",
       "    }\n",
       "\n",
       "    .dataframe tbody tr th {\n",
       "        vertical-align: top;\n",
       "    }\n",
       "\n",
       "    .dataframe thead th {\n",
       "        text-align: right;\n",
       "    }\n",
       "</style>\n",
       "<table border=\"1\" class=\"dataframe\">\n",
       "  <thead>\n",
       "    <tr style=\"text-align: right;\">\n",
       "      <th></th>\n",
       "      <th>0</th>\n",
       "      <th>1</th>\n",
       "      <th>2</th>\n",
       "      <th>3</th>\n",
       "      <th>4</th>\n",
       "      <th>5</th>\n",
       "      <th>6</th>\n",
       "      <th>7</th>\n",
       "      <th>8</th>\n",
       "      <th>9</th>\n",
       "    </tr>\n",
       "  </thead>\n",
       "  <tbody>\n",
       "    <tr>\n",
       "      <th>0</th>\n",
       "      <td>[]</td>\n",
       "      <td>None</td>\n",
       "      <td>None</td>\n",
       "      <td>None</td>\n",
       "      <td>None</td>\n",
       "      <td>None</td>\n",
       "      <td>None</td>\n",
       "      <td>None</td>\n",
       "      <td>None</td>\n",
       "      <td>None</td>\n",
       "    </tr>\n",
       "    <tr>\n",
       "      <th>1</th>\n",
       "      <td>[Finishers:</td>\n",
       "      <td>577]</td>\n",
       "      <td>None</td>\n",
       "      <td>None</td>\n",
       "      <td>None</td>\n",
       "      <td>None</td>\n",
       "      <td>None</td>\n",
       "      <td>None</td>\n",
       "      <td>None</td>\n",
       "      <td>None</td>\n",
       "    </tr>\n",
       "    <tr>\n",
       "      <th>2</th>\n",
       "      <td>[Male:</td>\n",
       "      <td>414]</td>\n",
       "      <td>None</td>\n",
       "      <td>None</td>\n",
       "      <td>None</td>\n",
       "      <td>None</td>\n",
       "      <td>None</td>\n",
       "      <td>None</td>\n",
       "      <td>None</td>\n",
       "      <td>None</td>\n",
       "    </tr>\n",
       "    <tr>\n",
       "      <th>3</th>\n",
       "      <td>[Female:</td>\n",
       "      <td>163]</td>\n",
       "      <td>None</td>\n",
       "      <td>None</td>\n",
       "      <td>None</td>\n",
       "      <td>None</td>\n",
       "      <td>None</td>\n",
       "      <td>None</td>\n",
       "      <td>None</td>\n",
       "      <td>None</td>\n",
       "    </tr>\n",
       "    <tr>\n",
       "      <th>4</th>\n",
       "      <td>[]</td>\n",
       "      <td>None</td>\n",
       "      <td>None</td>\n",
       "      <td>None</td>\n",
       "      <td>None</td>\n",
       "      <td>None</td>\n",
       "      <td>None</td>\n",
       "      <td>None</td>\n",
       "      <td>None</td>\n",
       "      <td>None</td>\n",
       "    </tr>\n",
       "    <tr>\n",
       "      <th>5</th>\n",
       "      <td>[1</td>\n",
       "      <td>814</td>\n",
       "      <td>\\r\\n\\r\\n                    JARED WILSON\\r\\n\\...</td>\n",
       "      <td>M</td>\n",
       "      <td>TIGARD</td>\n",
       "      <td>OR</td>\n",
       "      <td>36:21</td>\n",
       "      <td>5:51</td>\n",
       "      <td>36:24</td>\n",
       "      <td>]</td>\n",
       "    </tr>\n",
       "    <tr>\n",
       "      <th>6</th>\n",
       "      <td>[2</td>\n",
       "      <td>573</td>\n",
       "      <td>\\r\\n\\r\\n                    NATHAN A SUSTERSI...</td>\n",
       "      <td>M</td>\n",
       "      <td>PORTLAND</td>\n",
       "      <td>OR</td>\n",
       "      <td>36:42</td>\n",
       "      <td>5:55</td>\n",
       "      <td>36:45</td>\n",
       "      <td>\\n\\r\\n                            INTEL TEAM ...</td>\n",
       "    </tr>\n",
       "    <tr>\n",
       "      <th>7</th>\n",
       "      <td>[3</td>\n",
       "      <td>687</td>\n",
       "      <td>\\r\\n\\r\\n                    FRANCISCO MAYA\\r\\...</td>\n",
       "      <td>M</td>\n",
       "      <td>PORTLAND</td>\n",
       "      <td>OR</td>\n",
       "      <td>37:44</td>\n",
       "      <td>6:05</td>\n",
       "      <td>37:48</td>\n",
       "      <td>]</td>\n",
       "    </tr>\n",
       "    <tr>\n",
       "      <th>8</th>\n",
       "      <td>[4</td>\n",
       "      <td>623</td>\n",
       "      <td>\\r\\n\\r\\n                    PAUL MORROW\\r\\n\\r...</td>\n",
       "      <td>M</td>\n",
       "      <td>BEAVERTON</td>\n",
       "      <td>OR</td>\n",
       "      <td>38:34</td>\n",
       "      <td>6:13</td>\n",
       "      <td>38:37</td>\n",
       "      <td>]</td>\n",
       "    </tr>\n",
       "    <tr>\n",
       "      <th>9</th>\n",
       "      <td>[5</td>\n",
       "      <td>569</td>\n",
       "      <td>\\r\\n\\r\\n                    DEREK G OSBORNE\\r...</td>\n",
       "      <td>M</td>\n",
       "      <td>HILLSBORO</td>\n",
       "      <td>OR</td>\n",
       "      <td>39:21</td>\n",
       "      <td>6:20</td>\n",
       "      <td>39:24</td>\n",
       "      <td>\\n\\r\\n                            INTEL TEAM ...</td>\n",
       "    </tr>\n",
       "  </tbody>\n",
       "</table>\n",
       "</div>"
      ],
      "text/plain": [
       "             0      1                                                  2  \\\n",
       "0           []   None                                               None   \n",
       "1  [Finishers:   577]                                               None   \n",
       "2       [Male:   414]                                               None   \n",
       "3     [Female:   163]                                               None   \n",
       "4           []   None                                               None   \n",
       "5           [1    814   \\r\\n\\r\\n                    JARED WILSON\\r\\n\\...   \n",
       "6           [2    573   \\r\\n\\r\\n                    NATHAN A SUSTERSI...   \n",
       "7           [3    687   \\r\\n\\r\\n                    FRANCISCO MAYA\\r\\...   \n",
       "8           [4    623   \\r\\n\\r\\n                    PAUL MORROW\\r\\n\\r...   \n",
       "9           [5    569   \\r\\n\\r\\n                    DEREK G OSBORNE\\r...   \n",
       "\n",
       "      3           4     5       6      7       8  \\\n",
       "0  None        None  None    None   None    None   \n",
       "1  None        None  None    None   None    None   \n",
       "2  None        None  None    None   None    None   \n",
       "3  None        None  None    None   None    None   \n",
       "4  None        None  None    None   None    None   \n",
       "5     M      TIGARD    OR   36:21   5:51   36:24   \n",
       "6     M    PORTLAND    OR   36:42   5:55   36:45   \n",
       "7     M    PORTLAND    OR   37:44   6:05   37:48   \n",
       "8     M   BEAVERTON    OR   38:34   6:13   38:37   \n",
       "9     M   HILLSBORO    OR   39:21   6:20   39:24   \n",
       "\n",
       "                                                   9  \n",
       "0                                               None  \n",
       "1                                               None  \n",
       "2                                               None  \n",
       "3                                               None  \n",
       "4                                               None  \n",
       "5                                                  ]  \n",
       "6   \\n\\r\\n                            INTEL TEAM ...  \n",
       "7                                                  ]  \n",
       "8                                                  ]  \n",
       "9   \\n\\r\\n                            INTEL TEAM ...  "
      ]
     },
     "execution_count": 20,
     "metadata": {},
     "output_type": "execute_result"
    }
   ],
   "source": [
    "df1.head(10)"
   ]
  },
  {
   "cell_type": "markdown",
   "metadata": {},
   "source": [
    "Está começando a ficar bonito. Vamos fazer mais algumas limpezas. Leia e compreenda o código. Se tiver dúvidas, pergunte (embora isso não deva ser novidade se você fez o curso gratuito de <a href=\"https://www.datascienceacademy.com.br/course?courseid=python-fundamentos\">Python Fundamentos</a> aqui na DSA)."
   ]
  },
  {
   "cell_type": "code",
   "execution_count": 21,
   "metadata": {
    "scrolled": true
   },
   "outputs": [],
   "source": [
    "# Removemos colchetes de abertura (lado esquerdo) do texto\n",
    "df1[0] = df1[0].str.strip('[')"
   ]
  },
  {
   "cell_type": "code",
   "execution_count": 22,
   "metadata": {},
   "outputs": [
    {
     "data": {
      "text/html": [
       "<div>\n",
       "<style scoped>\n",
       "    .dataframe tbody tr th:only-of-type {\n",
       "        vertical-align: middle;\n",
       "    }\n",
       "\n",
       "    .dataframe tbody tr th {\n",
       "        vertical-align: top;\n",
       "    }\n",
       "\n",
       "    .dataframe thead th {\n",
       "        text-align: right;\n",
       "    }\n",
       "</style>\n",
       "<table border=\"1\" class=\"dataframe\">\n",
       "  <thead>\n",
       "    <tr style=\"text-align: right;\">\n",
       "      <th></th>\n",
       "      <th>0</th>\n",
       "      <th>1</th>\n",
       "      <th>2</th>\n",
       "      <th>3</th>\n",
       "      <th>4</th>\n",
       "      <th>5</th>\n",
       "      <th>6</th>\n",
       "      <th>7</th>\n",
       "      <th>8</th>\n",
       "      <th>9</th>\n",
       "    </tr>\n",
       "  </thead>\n",
       "  <tbody>\n",
       "    <tr>\n",
       "      <th>0</th>\n",
       "      <td>]</td>\n",
       "      <td>None</td>\n",
       "      <td>None</td>\n",
       "      <td>None</td>\n",
       "      <td>None</td>\n",
       "      <td>None</td>\n",
       "      <td>None</td>\n",
       "      <td>None</td>\n",
       "      <td>None</td>\n",
       "      <td>None</td>\n",
       "    </tr>\n",
       "    <tr>\n",
       "      <th>1</th>\n",
       "      <td>Finishers:</td>\n",
       "      <td>577]</td>\n",
       "      <td>None</td>\n",
       "      <td>None</td>\n",
       "      <td>None</td>\n",
       "      <td>None</td>\n",
       "      <td>None</td>\n",
       "      <td>None</td>\n",
       "      <td>None</td>\n",
       "      <td>None</td>\n",
       "    </tr>\n",
       "    <tr>\n",
       "      <th>2</th>\n",
       "      <td>Male:</td>\n",
       "      <td>414]</td>\n",
       "      <td>None</td>\n",
       "      <td>None</td>\n",
       "      <td>None</td>\n",
       "      <td>None</td>\n",
       "      <td>None</td>\n",
       "      <td>None</td>\n",
       "      <td>None</td>\n",
       "      <td>None</td>\n",
       "    </tr>\n",
       "    <tr>\n",
       "      <th>3</th>\n",
       "      <td>Female:</td>\n",
       "      <td>163]</td>\n",
       "      <td>None</td>\n",
       "      <td>None</td>\n",
       "      <td>None</td>\n",
       "      <td>None</td>\n",
       "      <td>None</td>\n",
       "      <td>None</td>\n",
       "      <td>None</td>\n",
       "      <td>None</td>\n",
       "    </tr>\n",
       "    <tr>\n",
       "      <th>4</th>\n",
       "      <td>]</td>\n",
       "      <td>None</td>\n",
       "      <td>None</td>\n",
       "      <td>None</td>\n",
       "      <td>None</td>\n",
       "      <td>None</td>\n",
       "      <td>None</td>\n",
       "      <td>None</td>\n",
       "      <td>None</td>\n",
       "      <td>None</td>\n",
       "    </tr>\n",
       "    <tr>\n",
       "      <th>5</th>\n",
       "      <td>1</td>\n",
       "      <td>814</td>\n",
       "      <td>\\r\\n\\r\\n                    JARED WILSON\\r\\n\\...</td>\n",
       "      <td>M</td>\n",
       "      <td>TIGARD</td>\n",
       "      <td>OR</td>\n",
       "      <td>36:21</td>\n",
       "      <td>5:51</td>\n",
       "      <td>36:24</td>\n",
       "      <td>]</td>\n",
       "    </tr>\n",
       "    <tr>\n",
       "      <th>6</th>\n",
       "      <td>2</td>\n",
       "      <td>573</td>\n",
       "      <td>\\r\\n\\r\\n                    NATHAN A SUSTERSI...</td>\n",
       "      <td>M</td>\n",
       "      <td>PORTLAND</td>\n",
       "      <td>OR</td>\n",
       "      <td>36:42</td>\n",
       "      <td>5:55</td>\n",
       "      <td>36:45</td>\n",
       "      <td>\\n\\r\\n                            INTEL TEAM ...</td>\n",
       "    </tr>\n",
       "    <tr>\n",
       "      <th>7</th>\n",
       "      <td>3</td>\n",
       "      <td>687</td>\n",
       "      <td>\\r\\n\\r\\n                    FRANCISCO MAYA\\r\\...</td>\n",
       "      <td>M</td>\n",
       "      <td>PORTLAND</td>\n",
       "      <td>OR</td>\n",
       "      <td>37:44</td>\n",
       "      <td>6:05</td>\n",
       "      <td>37:48</td>\n",
       "      <td>]</td>\n",
       "    </tr>\n",
       "    <tr>\n",
       "      <th>8</th>\n",
       "      <td>4</td>\n",
       "      <td>623</td>\n",
       "      <td>\\r\\n\\r\\n                    PAUL MORROW\\r\\n\\r...</td>\n",
       "      <td>M</td>\n",
       "      <td>BEAVERTON</td>\n",
       "      <td>OR</td>\n",
       "      <td>38:34</td>\n",
       "      <td>6:13</td>\n",
       "      <td>38:37</td>\n",
       "      <td>]</td>\n",
       "    </tr>\n",
       "    <tr>\n",
       "      <th>9</th>\n",
       "      <td>5</td>\n",
       "      <td>569</td>\n",
       "      <td>\\r\\n\\r\\n                    DEREK G OSBORNE\\r...</td>\n",
       "      <td>M</td>\n",
       "      <td>HILLSBORO</td>\n",
       "      <td>OR</td>\n",
       "      <td>39:21</td>\n",
       "      <td>6:20</td>\n",
       "      <td>39:24</td>\n",
       "      <td>\\n\\r\\n                            INTEL TEAM ...</td>\n",
       "    </tr>\n",
       "  </tbody>\n",
       "</table>\n",
       "</div>"
      ],
      "text/plain": [
       "            0      1                                                  2     3  \\\n",
       "0           ]   None                                               None  None   \n",
       "1  Finishers:   577]                                               None  None   \n",
       "2       Male:   414]                                               None  None   \n",
       "3     Female:   163]                                               None  None   \n",
       "4           ]   None                                               None  None   \n",
       "5           1    814   \\r\\n\\r\\n                    JARED WILSON\\r\\n\\...     M   \n",
       "6           2    573   \\r\\n\\r\\n                    NATHAN A SUSTERSI...     M   \n",
       "7           3    687   \\r\\n\\r\\n                    FRANCISCO MAYA\\r\\...     M   \n",
       "8           4    623   \\r\\n\\r\\n                    PAUL MORROW\\r\\n\\r...     M   \n",
       "9           5    569   \\r\\n\\r\\n                    DEREK G OSBORNE\\r...     M   \n",
       "\n",
       "            4     5       6      7       8  \\\n",
       "0        None  None    None   None    None   \n",
       "1        None  None    None   None    None   \n",
       "2        None  None    None   None    None   \n",
       "3        None  None    None   None    None   \n",
       "4        None  None    None   None    None   \n",
       "5      TIGARD    OR   36:21   5:51   36:24   \n",
       "6    PORTLAND    OR   36:42   5:55   36:45   \n",
       "7    PORTLAND    OR   37:44   6:05   37:48   \n",
       "8   BEAVERTON    OR   38:34   6:13   38:37   \n",
       "9   HILLSBORO    OR   39:21   6:20   39:24   \n",
       "\n",
       "                                                   9  \n",
       "0                                               None  \n",
       "1                                               None  \n",
       "2                                               None  \n",
       "3                                               None  \n",
       "4                                               None  \n",
       "5                                                  ]  \n",
       "6   \\n\\r\\n                            INTEL TEAM ...  \n",
       "7                                                  ]  \n",
       "8                                                  ]  \n",
       "9   \\n\\r\\n                            INTEL TEAM ...  "
      ]
     },
     "execution_count": 22,
     "metadata": {},
     "output_type": "execute_result"
    }
   ],
   "source": [
    "df1.head(10)"
   ]
  },
  {
   "cell_type": "code",
   "execution_count": 23,
   "metadata": {},
   "outputs": [],
   "source": [
    "# Extraímos o cabeçalho de todas as tabelas no código HTML\n",
    "col_labels = soup.find_all('th')"
   ]
  },
  {
   "cell_type": "code",
   "execution_count": 24,
   "metadata": {},
   "outputs": [
    {
     "data": {
      "text/plain": [
       "[<th>Place</th>,\n",
       " <th>Bib</th>,\n",
       " <th>Name</th>,\n",
       " <th>Gender</th>,\n",
       " <th>City</th>,\n",
       " <th>State</th>,\n",
       " <th>Chip Time</th>,\n",
       " <th>Chip Pace</th>,\n",
       " <th>Gun Time</th>,\n",
       " <th>Team</th>]"
      ]
     },
     "execution_count": 24,
     "metadata": {},
     "output_type": "execute_result"
    }
   ],
   "source": [
    "col_labels"
   ]
  },
  {
   "cell_type": "code",
   "execution_count": 25,
   "metadata": {},
   "outputs": [],
   "source": [
    "# Extraímos texto entre tags html dos cabeçalhos de tabela (extraímos o nome)\n",
    "all_header = []\n",
    "col_str = str(col_labels)\n",
    "cleantext2 = bs(col_str, \"lxml\").get_text()\n",
    "all_header.append(cleantext2)"
   ]
  },
  {
   "cell_type": "code",
   "execution_count": 26,
   "metadata": {},
   "outputs": [
    {
     "name": "stdout",
     "output_type": "stream",
     "text": [
      "['[Place, Bib, Name, Gender, City, State, Chip Time, Chip Pace, Gun Time, Team]']\n"
     ]
    }
   ],
   "source": [
    "print(all_header)"
   ]
  },
  {
   "cell_type": "code",
   "execution_count": 27,
   "metadata": {},
   "outputs": [],
   "source": [
    "# Convertendo a lista de cabeçalhos em um dataframe do pandas\n",
    "df2 = pd.DataFrame(all_header)"
   ]
  },
  {
   "cell_type": "code",
   "execution_count": 28,
   "metadata": {},
   "outputs": [
    {
     "data": {
      "text/html": [
       "<div>\n",
       "<style scoped>\n",
       "    .dataframe tbody tr th:only-of-type {\n",
       "        vertical-align: middle;\n",
       "    }\n",
       "\n",
       "    .dataframe tbody tr th {\n",
       "        vertical-align: top;\n",
       "    }\n",
       "\n",
       "    .dataframe thead th {\n",
       "        text-align: right;\n",
       "    }\n",
       "</style>\n",
       "<table border=\"1\" class=\"dataframe\">\n",
       "  <thead>\n",
       "    <tr style=\"text-align: right;\">\n",
       "      <th></th>\n",
       "      <th>0</th>\n",
       "    </tr>\n",
       "  </thead>\n",
       "  <tbody>\n",
       "    <tr>\n",
       "      <th>0</th>\n",
       "      <td>[Place, Bib, Name, Gender, City, State, Chip T...</td>\n",
       "    </tr>\n",
       "  </tbody>\n",
       "</table>\n",
       "</div>"
      ],
      "text/plain": [
       "                                                   0\n",
       "0  [Place, Bib, Name, Gender, City, State, Chip T..."
      ]
     },
     "execution_count": 28,
     "metadata": {},
     "output_type": "execute_result"
    }
   ],
   "source": [
    "df2.head()"
   ]
  },
  {
   "cell_type": "code",
   "execution_count": 29,
   "metadata": {},
   "outputs": [],
   "source": [
    "# Dividindo a coluna \"0\" em várias colunas na posição de vírgula para todas as linhas\n",
    "df3 = df2[0].str.split(',', expand = True)"
   ]
  },
  {
   "cell_type": "code",
   "execution_count": 30,
   "metadata": {},
   "outputs": [
    {
     "data": {
      "text/html": [
       "<div>\n",
       "<style scoped>\n",
       "    .dataframe tbody tr th:only-of-type {\n",
       "        vertical-align: middle;\n",
       "    }\n",
       "\n",
       "    .dataframe tbody tr th {\n",
       "        vertical-align: top;\n",
       "    }\n",
       "\n",
       "    .dataframe thead th {\n",
       "        text-align: right;\n",
       "    }\n",
       "</style>\n",
       "<table border=\"1\" class=\"dataframe\">\n",
       "  <thead>\n",
       "    <tr style=\"text-align: right;\">\n",
       "      <th></th>\n",
       "      <th>0</th>\n",
       "      <th>1</th>\n",
       "      <th>2</th>\n",
       "      <th>3</th>\n",
       "      <th>4</th>\n",
       "      <th>5</th>\n",
       "      <th>6</th>\n",
       "      <th>7</th>\n",
       "      <th>8</th>\n",
       "      <th>9</th>\n",
       "    </tr>\n",
       "  </thead>\n",
       "  <tbody>\n",
       "    <tr>\n",
       "      <th>0</th>\n",
       "      <td>[Place</td>\n",
       "      <td>Bib</td>\n",
       "      <td>Name</td>\n",
       "      <td>Gender</td>\n",
       "      <td>City</td>\n",
       "      <td>State</td>\n",
       "      <td>Chip Time</td>\n",
       "      <td>Chip Pace</td>\n",
       "      <td>Gun Time</td>\n",
       "      <td>Team]</td>\n",
       "    </tr>\n",
       "  </tbody>\n",
       "</table>\n",
       "</div>"
      ],
      "text/plain": [
       "        0     1      2        3      4       5           6           7  \\\n",
       "0  [Place   Bib   Name   Gender   City   State   Chip Time   Chip Pace   \n",
       "\n",
       "           8       9  \n",
       "0   Gun Time   Team]  "
      ]
     },
     "execution_count": 30,
     "metadata": {},
     "output_type": "execute_result"
    }
   ],
   "source": [
    "df3.head()"
   ]
  },
  {
   "cell_type": "code",
   "execution_count": 31,
   "metadata": {},
   "outputs": [],
   "source": [
    "# Concatenando os 2 dataframes\n",
    "frames = [df3, df1]\n",
    "df4 = pd.concat(frames)"
   ]
  },
  {
   "cell_type": "code",
   "execution_count": 32,
   "metadata": {},
   "outputs": [
    {
     "data": {
      "text/html": [
       "<div>\n",
       "<style scoped>\n",
       "    .dataframe tbody tr th:only-of-type {\n",
       "        vertical-align: middle;\n",
       "    }\n",
       "\n",
       "    .dataframe tbody tr th {\n",
       "        vertical-align: top;\n",
       "    }\n",
       "\n",
       "    .dataframe thead th {\n",
       "        text-align: right;\n",
       "    }\n",
       "</style>\n",
       "<table border=\"1\" class=\"dataframe\">\n",
       "  <thead>\n",
       "    <tr style=\"text-align: right;\">\n",
       "      <th></th>\n",
       "      <th>0</th>\n",
       "      <th>1</th>\n",
       "      <th>2</th>\n",
       "      <th>3</th>\n",
       "      <th>4</th>\n",
       "      <th>5</th>\n",
       "      <th>6</th>\n",
       "      <th>7</th>\n",
       "      <th>8</th>\n",
       "      <th>9</th>\n",
       "    </tr>\n",
       "  </thead>\n",
       "  <tbody>\n",
       "    <tr>\n",
       "      <th>0</th>\n",
       "      <td>[Place</td>\n",
       "      <td>Bib</td>\n",
       "      <td>Name</td>\n",
       "      <td>Gender</td>\n",
       "      <td>City</td>\n",
       "      <td>State</td>\n",
       "      <td>Chip Time</td>\n",
       "      <td>Chip Pace</td>\n",
       "      <td>Gun Time</td>\n",
       "      <td>Team]</td>\n",
       "    </tr>\n",
       "    <tr>\n",
       "      <th>0</th>\n",
       "      <td>]</td>\n",
       "      <td>None</td>\n",
       "      <td>None</td>\n",
       "      <td>None</td>\n",
       "      <td>None</td>\n",
       "      <td>None</td>\n",
       "      <td>None</td>\n",
       "      <td>None</td>\n",
       "      <td>None</td>\n",
       "      <td>None</td>\n",
       "    </tr>\n",
       "    <tr>\n",
       "      <th>1</th>\n",
       "      <td>Finishers:</td>\n",
       "      <td>577]</td>\n",
       "      <td>None</td>\n",
       "      <td>None</td>\n",
       "      <td>None</td>\n",
       "      <td>None</td>\n",
       "      <td>None</td>\n",
       "      <td>None</td>\n",
       "      <td>None</td>\n",
       "      <td>None</td>\n",
       "    </tr>\n",
       "    <tr>\n",
       "      <th>2</th>\n",
       "      <td>Male:</td>\n",
       "      <td>414]</td>\n",
       "      <td>None</td>\n",
       "      <td>None</td>\n",
       "      <td>None</td>\n",
       "      <td>None</td>\n",
       "      <td>None</td>\n",
       "      <td>None</td>\n",
       "      <td>None</td>\n",
       "      <td>None</td>\n",
       "    </tr>\n",
       "    <tr>\n",
       "      <th>3</th>\n",
       "      <td>Female:</td>\n",
       "      <td>163]</td>\n",
       "      <td>None</td>\n",
       "      <td>None</td>\n",
       "      <td>None</td>\n",
       "      <td>None</td>\n",
       "      <td>None</td>\n",
       "      <td>None</td>\n",
       "      <td>None</td>\n",
       "      <td>None</td>\n",
       "    </tr>\n",
       "    <tr>\n",
       "      <th>4</th>\n",
       "      <td>]</td>\n",
       "      <td>None</td>\n",
       "      <td>None</td>\n",
       "      <td>None</td>\n",
       "      <td>None</td>\n",
       "      <td>None</td>\n",
       "      <td>None</td>\n",
       "      <td>None</td>\n",
       "      <td>None</td>\n",
       "      <td>None</td>\n",
       "    </tr>\n",
       "    <tr>\n",
       "      <th>5</th>\n",
       "      <td>1</td>\n",
       "      <td>814</td>\n",
       "      <td>\\r\\n\\r\\n                    JARED WILSON\\r\\n\\...</td>\n",
       "      <td>M</td>\n",
       "      <td>TIGARD</td>\n",
       "      <td>OR</td>\n",
       "      <td>36:21</td>\n",
       "      <td>5:51</td>\n",
       "      <td>36:24</td>\n",
       "      <td>]</td>\n",
       "    </tr>\n",
       "    <tr>\n",
       "      <th>6</th>\n",
       "      <td>2</td>\n",
       "      <td>573</td>\n",
       "      <td>\\r\\n\\r\\n                    NATHAN A SUSTERSI...</td>\n",
       "      <td>M</td>\n",
       "      <td>PORTLAND</td>\n",
       "      <td>OR</td>\n",
       "      <td>36:42</td>\n",
       "      <td>5:55</td>\n",
       "      <td>36:45</td>\n",
       "      <td>\\n\\r\\n                            INTEL TEAM ...</td>\n",
       "    </tr>\n",
       "    <tr>\n",
       "      <th>7</th>\n",
       "      <td>3</td>\n",
       "      <td>687</td>\n",
       "      <td>\\r\\n\\r\\n                    FRANCISCO MAYA\\r\\...</td>\n",
       "      <td>M</td>\n",
       "      <td>PORTLAND</td>\n",
       "      <td>OR</td>\n",
       "      <td>37:44</td>\n",
       "      <td>6:05</td>\n",
       "      <td>37:48</td>\n",
       "      <td>]</td>\n",
       "    </tr>\n",
       "    <tr>\n",
       "      <th>8</th>\n",
       "      <td>4</td>\n",
       "      <td>623</td>\n",
       "      <td>\\r\\n\\r\\n                    PAUL MORROW\\r\\n\\r...</td>\n",
       "      <td>M</td>\n",
       "      <td>BEAVERTON</td>\n",
       "      <td>OR</td>\n",
       "      <td>38:34</td>\n",
       "      <td>6:13</td>\n",
       "      <td>38:37</td>\n",
       "      <td>]</td>\n",
       "    </tr>\n",
       "  </tbody>\n",
       "</table>\n",
       "</div>"
      ],
      "text/plain": [
       "            0      1                                                  2  \\\n",
       "0      [Place    Bib                                               Name   \n",
       "0           ]   None                                               None   \n",
       "1  Finishers:   577]                                               None   \n",
       "2       Male:   414]                                               None   \n",
       "3     Female:   163]                                               None   \n",
       "4           ]   None                                               None   \n",
       "5           1    814   \\r\\n\\r\\n                    JARED WILSON\\r\\n\\...   \n",
       "6           2    573   \\r\\n\\r\\n                    NATHAN A SUSTERSI...   \n",
       "7           3    687   \\r\\n\\r\\n                    FRANCISCO MAYA\\r\\...   \n",
       "8           4    623   \\r\\n\\r\\n                    PAUL MORROW\\r\\n\\r...   \n",
       "\n",
       "         3           4       5           6           7          8  \\\n",
       "0   Gender        City   State   Chip Time   Chip Pace   Gun Time   \n",
       "0     None        None    None        None        None       None   \n",
       "1     None        None    None        None        None       None   \n",
       "2     None        None    None        None        None       None   \n",
       "3     None        None    None        None        None       None   \n",
       "4     None        None    None        None        None       None   \n",
       "5        M      TIGARD      OR       36:21        5:51      36:24   \n",
       "6        M    PORTLAND      OR       36:42        5:55      36:45   \n",
       "7        M    PORTLAND      OR       37:44        6:05      37:48   \n",
       "8        M   BEAVERTON      OR       38:34        6:13      38:37   \n",
       "\n",
       "                                                   9  \n",
       "0                                              Team]  \n",
       "0                                               None  \n",
       "1                                               None  \n",
       "2                                               None  \n",
       "3                                               None  \n",
       "4                                               None  \n",
       "5                                                  ]  \n",
       "6   \\n\\r\\n                            INTEL TEAM ...  \n",
       "7                                                  ]  \n",
       "8                                                  ]  "
      ]
     },
     "execution_count": 32,
     "metadata": {},
     "output_type": "execute_result"
    }
   ],
   "source": [
    "df4.head(10)"
   ]
  },
  {
   "cell_type": "code",
   "execution_count": 33,
   "metadata": {},
   "outputs": [],
   "source": [
    "# Atribuindo a primeira coluna como cabeçalho\n",
    "df5 = df4.rename(columns = df4.iloc[0])"
   ]
  },
  {
   "cell_type": "code",
   "execution_count": 34,
   "metadata": {},
   "outputs": [
    {
     "data": {
      "text/html": [
       "<div>\n",
       "<style scoped>\n",
       "    .dataframe tbody tr th:only-of-type {\n",
       "        vertical-align: middle;\n",
       "    }\n",
       "\n",
       "    .dataframe tbody tr th {\n",
       "        vertical-align: top;\n",
       "    }\n",
       "\n",
       "    .dataframe thead th {\n",
       "        text-align: right;\n",
       "    }\n",
       "</style>\n",
       "<table border=\"1\" class=\"dataframe\">\n",
       "  <thead>\n",
       "    <tr style=\"text-align: right;\">\n",
       "      <th></th>\n",
       "      <th>[Place</th>\n",
       "      <th>Bib</th>\n",
       "      <th>Name</th>\n",
       "      <th>Gender</th>\n",
       "      <th>City</th>\n",
       "      <th>State</th>\n",
       "      <th>Chip Time</th>\n",
       "      <th>Chip Pace</th>\n",
       "      <th>Gun Time</th>\n",
       "      <th>Team]</th>\n",
       "    </tr>\n",
       "  </thead>\n",
       "  <tbody>\n",
       "    <tr>\n",
       "      <th>0</th>\n",
       "      <td>[Place</td>\n",
       "      <td>Bib</td>\n",
       "      <td>Name</td>\n",
       "      <td>Gender</td>\n",
       "      <td>City</td>\n",
       "      <td>State</td>\n",
       "      <td>Chip Time</td>\n",
       "      <td>Chip Pace</td>\n",
       "      <td>Gun Time</td>\n",
       "      <td>Team]</td>\n",
       "    </tr>\n",
       "    <tr>\n",
       "      <th>0</th>\n",
       "      <td>]</td>\n",
       "      <td>None</td>\n",
       "      <td>None</td>\n",
       "      <td>None</td>\n",
       "      <td>None</td>\n",
       "      <td>None</td>\n",
       "      <td>None</td>\n",
       "      <td>None</td>\n",
       "      <td>None</td>\n",
       "      <td>None</td>\n",
       "    </tr>\n",
       "    <tr>\n",
       "      <th>1</th>\n",
       "      <td>Finishers:</td>\n",
       "      <td>577]</td>\n",
       "      <td>None</td>\n",
       "      <td>None</td>\n",
       "      <td>None</td>\n",
       "      <td>None</td>\n",
       "      <td>None</td>\n",
       "      <td>None</td>\n",
       "      <td>None</td>\n",
       "      <td>None</td>\n",
       "    </tr>\n",
       "    <tr>\n",
       "      <th>2</th>\n",
       "      <td>Male:</td>\n",
       "      <td>414]</td>\n",
       "      <td>None</td>\n",
       "      <td>None</td>\n",
       "      <td>None</td>\n",
       "      <td>None</td>\n",
       "      <td>None</td>\n",
       "      <td>None</td>\n",
       "      <td>None</td>\n",
       "      <td>None</td>\n",
       "    </tr>\n",
       "    <tr>\n",
       "      <th>3</th>\n",
       "      <td>Female:</td>\n",
       "      <td>163]</td>\n",
       "      <td>None</td>\n",
       "      <td>None</td>\n",
       "      <td>None</td>\n",
       "      <td>None</td>\n",
       "      <td>None</td>\n",
       "      <td>None</td>\n",
       "      <td>None</td>\n",
       "      <td>None</td>\n",
       "    </tr>\n",
       "  </tbody>\n",
       "</table>\n",
       "</div>"
      ],
      "text/plain": [
       "       [Place    Bib   Name   Gender   City   State   Chip Time   Chip Pace  \\\n",
       "0      [Place    Bib   Name   Gender   City   State   Chip Time   Chip Pace   \n",
       "0           ]   None   None     None   None    None        None        None   \n",
       "1  Finishers:   577]   None     None   None    None        None        None   \n",
       "2       Male:   414]   None     None   None    None        None        None   \n",
       "3     Female:   163]   None     None   None    None        None        None   \n",
       "\n",
       "    Gun Time   Team]  \n",
       "0   Gun Time   Team]  \n",
       "0       None    None  \n",
       "1       None    None  \n",
       "2       None    None  \n",
       "3       None    None  "
      ]
     },
     "execution_count": 34,
     "metadata": {},
     "output_type": "execute_result"
    }
   ],
   "source": [
    "df5.head()"
   ]
  },
  {
   "cell_type": "code",
   "execution_count": 35,
   "metadata": {},
   "outputs": [
    {
     "data": {
      "text/plain": [
       "(583, 10)"
      ]
     },
     "execution_count": 35,
     "metadata": {},
     "output_type": "execute_result"
    }
   ],
   "source": [
    "# Shape\n",
    "df5.shape"
   ]
  },
  {
   "cell_type": "code",
   "execution_count": 36,
   "metadata": {},
   "outputs": [
    {
     "name": "stdout",
     "output_type": "stream",
     "text": [
      "<class 'pandas.core.frame.DataFrame'>\n",
      "Int64Index: 583 entries, 0 to 581\n",
      "Data columns (total 10 columns):\n",
      " #   Column      Non-Null Count  Dtype \n",
      "---  ------      --------------  ----- \n",
      " 0   [Place      583 non-null    object\n",
      " 1    Bib        581 non-null    object\n",
      " 2    Name       578 non-null    object\n",
      " 3    Gender     578 non-null    object\n",
      " 4    City       578 non-null    object\n",
      " 5    State      578 non-null    object\n",
      " 6    Chip Time  578 non-null    object\n",
      " 7    Chip Pace  578 non-null    object\n",
      " 8    Gun Time   578 non-null    object\n",
      " 9    Team]      578 non-null    object\n",
      "dtypes: object(10)\n",
      "memory usage: 50.1+ KB\n"
     ]
    }
   ],
   "source": [
    "# Obtendo uma visão geral dos dados para análise\n",
    "df5.info()"
   ]
  },
  {
   "cell_type": "code",
   "execution_count": 37,
   "metadata": {},
   "outputs": [
    {
     "data": {
      "text/plain": [
       "[Place        0\n",
       " Bib          2\n",
       " Name         5\n",
       " Gender       5\n",
       " City         5\n",
       " State        5\n",
       " Chip Time    5\n",
       " Chip Pace    5\n",
       " Gun Time     5\n",
       " Team]        5\n",
       "dtype: int64"
      ]
     },
     "execution_count": 37,
     "metadata": {},
     "output_type": "execute_result"
    }
   ],
   "source": [
    "# Verificando valores ausentes\n",
    "df5.isnull().sum()"
   ]
  },
  {
   "cell_type": "code",
   "execution_count": 38,
   "metadata": {},
   "outputs": [],
   "source": [
    "# Removendo todas as linhas com valores ausentes\n",
    "df6 = df5.dropna(axis = 0, how = 'any')"
   ]
  },
  {
   "cell_type": "code",
   "execution_count": 39,
   "metadata": {},
   "outputs": [],
   "source": [
    "# Descartando o cabeçalho da tabela replicada como a primeira linha no df5\n",
    "df7 = df6.drop(df6.index[0])"
   ]
  },
  {
   "cell_type": "code",
   "execution_count": 40,
   "metadata": {},
   "outputs": [],
   "source": [
    "# Renomeando as colunas [Place e Team] \n",
    "df7.rename(columns = {'[Place': 'Place'}, inplace = True)\n",
    "df7.rename(columns = {' Team]': 'Team'}, inplace = True)"
   ]
  },
  {
   "cell_type": "code",
   "execution_count": 41,
   "metadata": {},
   "outputs": [],
   "source": [
    "# Limpeza final dos dados - remoção do colchete de fechamento das células na coluna \"Team\".\n",
    "df7['Team'] = df7['Team'].str.strip(']')"
   ]
  },
  {
   "cell_type": "code",
   "execution_count": 42,
   "metadata": {},
   "outputs": [
    {
     "data": {
      "text/html": [
       "<div>\n",
       "<style scoped>\n",
       "    .dataframe tbody tr th:only-of-type {\n",
       "        vertical-align: middle;\n",
       "    }\n",
       "\n",
       "    .dataframe tbody tr th {\n",
       "        vertical-align: top;\n",
       "    }\n",
       "\n",
       "    .dataframe thead th {\n",
       "        text-align: right;\n",
       "    }\n",
       "</style>\n",
       "<table border=\"1\" class=\"dataframe\">\n",
       "  <thead>\n",
       "    <tr style=\"text-align: right;\">\n",
       "      <th></th>\n",
       "      <th>Place</th>\n",
       "      <th>Bib</th>\n",
       "      <th>Name</th>\n",
       "      <th>Gender</th>\n",
       "      <th>City</th>\n",
       "      <th>State</th>\n",
       "      <th>Chip Time</th>\n",
       "      <th>Chip Pace</th>\n",
       "      <th>Gun Time</th>\n",
       "      <th>Team</th>\n",
       "    </tr>\n",
       "  </thead>\n",
       "  <tbody>\n",
       "    <tr>\n",
       "      <th>5</th>\n",
       "      <td>1</td>\n",
       "      <td>814</td>\n",
       "      <td>\\r\\n\\r\\n                    JARED WILSON\\r\\n\\...</td>\n",
       "      <td>M</td>\n",
       "      <td>TIGARD</td>\n",
       "      <td>OR</td>\n",
       "      <td>36:21</td>\n",
       "      <td>5:51</td>\n",
       "      <td>36:24</td>\n",
       "      <td></td>\n",
       "    </tr>\n",
       "    <tr>\n",
       "      <th>6</th>\n",
       "      <td>2</td>\n",
       "      <td>573</td>\n",
       "      <td>\\r\\n\\r\\n                    NATHAN A SUSTERSI...</td>\n",
       "      <td>M</td>\n",
       "      <td>PORTLAND</td>\n",
       "      <td>OR</td>\n",
       "      <td>36:42</td>\n",
       "      <td>5:55</td>\n",
       "      <td>36:45</td>\n",
       "      <td>\\n\\r\\n                            INTEL TEAM ...</td>\n",
       "    </tr>\n",
       "    <tr>\n",
       "      <th>7</th>\n",
       "      <td>3</td>\n",
       "      <td>687</td>\n",
       "      <td>\\r\\n\\r\\n                    FRANCISCO MAYA\\r\\...</td>\n",
       "      <td>M</td>\n",
       "      <td>PORTLAND</td>\n",
       "      <td>OR</td>\n",
       "      <td>37:44</td>\n",
       "      <td>6:05</td>\n",
       "      <td>37:48</td>\n",
       "      <td></td>\n",
       "    </tr>\n",
       "    <tr>\n",
       "      <th>8</th>\n",
       "      <td>4</td>\n",
       "      <td>623</td>\n",
       "      <td>\\r\\n\\r\\n                    PAUL MORROW\\r\\n\\r...</td>\n",
       "      <td>M</td>\n",
       "      <td>BEAVERTON</td>\n",
       "      <td>OR</td>\n",
       "      <td>38:34</td>\n",
       "      <td>6:13</td>\n",
       "      <td>38:37</td>\n",
       "      <td></td>\n",
       "    </tr>\n",
       "    <tr>\n",
       "      <th>9</th>\n",
       "      <td>5</td>\n",
       "      <td>569</td>\n",
       "      <td>\\r\\n\\r\\n                    DEREK G OSBORNE\\r...</td>\n",
       "      <td>M</td>\n",
       "      <td>HILLSBORO</td>\n",
       "      <td>OR</td>\n",
       "      <td>39:21</td>\n",
       "      <td>6:20</td>\n",
       "      <td>39:24</td>\n",
       "      <td>\\n\\r\\n                            INTEL TEAM ...</td>\n",
       "    </tr>\n",
       "  </tbody>\n",
       "</table>\n",
       "</div>"
      ],
      "text/plain": [
       "  Place   Bib                                               Name  Gender  \\\n",
       "5     1   814   \\r\\n\\r\\n                    JARED WILSON\\r\\n\\...       M   \n",
       "6     2   573   \\r\\n\\r\\n                    NATHAN A SUSTERSI...       M   \n",
       "7     3   687   \\r\\n\\r\\n                    FRANCISCO MAYA\\r\\...       M   \n",
       "8     4   623   \\r\\n\\r\\n                    PAUL MORROW\\r\\n\\r...       M   \n",
       "9     5   569   \\r\\n\\r\\n                    DEREK G OSBORNE\\r...       M   \n",
       "\n",
       "         City  State  Chip Time  Chip Pace  Gun Time  \\\n",
       "5      TIGARD     OR      36:21       5:51     36:24   \n",
       "6    PORTLAND     OR      36:42       5:55     36:45   \n",
       "7    PORTLAND     OR      37:44       6:05     37:48   \n",
       "8   BEAVERTON     OR      38:34       6:13     38:37   \n",
       "9   HILLSBORO     OR      39:21       6:20     39:24   \n",
       "\n",
       "                                                Team  \n",
       "5                                                     \n",
       "6   \\n\\r\\n                            INTEL TEAM ...  \n",
       "7                                                     \n",
       "8                                                     \n",
       "9   \\n\\r\\n                            INTEL TEAM ...  "
      ]
     },
     "execution_count": 42,
     "metadata": {},
     "output_type": "execute_result"
    }
   ],
   "source": [
    "df7.head()"
   ]
  },
  {
   "cell_type": "markdown",
   "metadata": {},
   "source": [
    "## Análise de Dados"
   ]
  },
  {
   "cell_type": "code",
   "execution_count": 43,
   "metadata": {},
   "outputs": [],
   "source": [
    "# Convertendo a coluna \"Chip Time\" em apenas minutos\n",
    "# Chip time é o tempo total de corrida medido com a leitura do sensor RFID no selo da camisa do participante\n",
    "time_list = df7[' Chip Time'].tolist()"
   ]
  },
  {
   "cell_type": "code",
   "execution_count": 44,
   "metadata": {},
   "outputs": [
    {
     "data": {
      "text/plain": [
       "[' 36:42', ' 37:44', ' 38:34', ' 39:21']"
      ]
     },
     "execution_count": 44,
     "metadata": {},
     "output_type": "execute_result"
    }
   ],
   "source": [
    "# Visualizando uma amostra de dados\n",
    "time_list[1:5]"
   ]
  },
  {
   "cell_type": "code",
   "execution_count": 45,
   "metadata": {},
   "outputs": [],
   "source": [
    "# Lista para receber o resultado da conversão\n",
    "time_mins = []"
   ]
  },
  {
   "cell_type": "code",
   "execution_count": 46,
   "metadata": {},
   "outputs": [],
   "source": [
    "# Loop para conversão\n",
    "for i in time_list:\n",
    "    i = i.strip(' ')\n",
    "    if len(i)!=7:\n",
    "        i = '0:' + i\n",
    "    h, m, s = i.split(':')\n",
    "    math = (int(h) * 3600 + int(m) * 60 + int(s))/60\n",
    "    time_mins.append(math)"
   ]
  },
  {
   "cell_type": "markdown",
   "metadata": {},
   "source": [
    "Convertendo a lista novamente em um dataframe e criamos uma nova coluna (\"Runner_mins\") como tempo total de corrida, mas agora em minutos."
   ]
  },
  {
   "cell_type": "code",
   "execution_count": 47,
   "metadata": {},
   "outputs": [],
   "source": [
    "# Nova coluna\n",
    "df7['Runner_mins'] = time_mins"
   ]
  },
  {
   "cell_type": "code",
   "execution_count": 48,
   "metadata": {},
   "outputs": [
    {
     "data": {
      "text/html": [
       "<div>\n",
       "<style scoped>\n",
       "    .dataframe tbody tr th:only-of-type {\n",
       "        vertical-align: middle;\n",
       "    }\n",
       "\n",
       "    .dataframe tbody tr th {\n",
       "        vertical-align: top;\n",
       "    }\n",
       "\n",
       "    .dataframe thead th {\n",
       "        text-align: right;\n",
       "    }\n",
       "</style>\n",
       "<table border=\"1\" class=\"dataframe\">\n",
       "  <thead>\n",
       "    <tr style=\"text-align: right;\">\n",
       "      <th></th>\n",
       "      <th>Place</th>\n",
       "      <th>Bib</th>\n",
       "      <th>Name</th>\n",
       "      <th>Gender</th>\n",
       "      <th>City</th>\n",
       "      <th>State</th>\n",
       "      <th>Chip Time</th>\n",
       "      <th>Chip Pace</th>\n",
       "      <th>Gun Time</th>\n",
       "      <th>Team</th>\n",
       "      <th>Runner_mins</th>\n",
       "    </tr>\n",
       "  </thead>\n",
       "  <tbody>\n",
       "    <tr>\n",
       "      <th>5</th>\n",
       "      <td>1</td>\n",
       "      <td>814</td>\n",
       "      <td>\\r\\n\\r\\n                    JARED WILSON\\r\\n\\...</td>\n",
       "      <td>M</td>\n",
       "      <td>TIGARD</td>\n",
       "      <td>OR</td>\n",
       "      <td>36:21</td>\n",
       "      <td>5:51</td>\n",
       "      <td>36:24</td>\n",
       "      <td></td>\n",
       "      <td>36.350000</td>\n",
       "    </tr>\n",
       "    <tr>\n",
       "      <th>6</th>\n",
       "      <td>2</td>\n",
       "      <td>573</td>\n",
       "      <td>\\r\\n\\r\\n                    NATHAN A SUSTERSI...</td>\n",
       "      <td>M</td>\n",
       "      <td>PORTLAND</td>\n",
       "      <td>OR</td>\n",
       "      <td>36:42</td>\n",
       "      <td>5:55</td>\n",
       "      <td>36:45</td>\n",
       "      <td>\\n\\r\\n                            INTEL TEAM ...</td>\n",
       "      <td>36.700000</td>\n",
       "    </tr>\n",
       "    <tr>\n",
       "      <th>7</th>\n",
       "      <td>3</td>\n",
       "      <td>687</td>\n",
       "      <td>\\r\\n\\r\\n                    FRANCISCO MAYA\\r\\...</td>\n",
       "      <td>M</td>\n",
       "      <td>PORTLAND</td>\n",
       "      <td>OR</td>\n",
       "      <td>37:44</td>\n",
       "      <td>6:05</td>\n",
       "      <td>37:48</td>\n",
       "      <td></td>\n",
       "      <td>37.733333</td>\n",
       "    </tr>\n",
       "    <tr>\n",
       "      <th>8</th>\n",
       "      <td>4</td>\n",
       "      <td>623</td>\n",
       "      <td>\\r\\n\\r\\n                    PAUL MORROW\\r\\n\\r...</td>\n",
       "      <td>M</td>\n",
       "      <td>BEAVERTON</td>\n",
       "      <td>OR</td>\n",
       "      <td>38:34</td>\n",
       "      <td>6:13</td>\n",
       "      <td>38:37</td>\n",
       "      <td></td>\n",
       "      <td>38.566667</td>\n",
       "    </tr>\n",
       "    <tr>\n",
       "      <th>9</th>\n",
       "      <td>5</td>\n",
       "      <td>569</td>\n",
       "      <td>\\r\\n\\r\\n                    DEREK G OSBORNE\\r...</td>\n",
       "      <td>M</td>\n",
       "      <td>HILLSBORO</td>\n",
       "      <td>OR</td>\n",
       "      <td>39:21</td>\n",
       "      <td>6:20</td>\n",
       "      <td>39:24</td>\n",
       "      <td>\\n\\r\\n                            INTEL TEAM ...</td>\n",
       "      <td>39.350000</td>\n",
       "    </tr>\n",
       "  </tbody>\n",
       "</table>\n",
       "</div>"
      ],
      "text/plain": [
       "  Place   Bib                                               Name  Gender  \\\n",
       "5     1   814   \\r\\n\\r\\n                    JARED WILSON\\r\\n\\...       M   \n",
       "6     2   573   \\r\\n\\r\\n                    NATHAN A SUSTERSI...       M   \n",
       "7     3   687   \\r\\n\\r\\n                    FRANCISCO MAYA\\r\\...       M   \n",
       "8     4   623   \\r\\n\\r\\n                    PAUL MORROW\\r\\n\\r...       M   \n",
       "9     5   569   \\r\\n\\r\\n                    DEREK G OSBORNE\\r...       M   \n",
       "\n",
       "         City  State  Chip Time  Chip Pace  Gun Time  \\\n",
       "5      TIGARD     OR      36:21       5:51     36:24   \n",
       "6    PORTLAND     OR      36:42       5:55     36:45   \n",
       "7    PORTLAND     OR      37:44       6:05     37:48   \n",
       "8   BEAVERTON     OR      38:34       6:13     38:37   \n",
       "9   HILLSBORO     OR      39:21       6:20     39:24   \n",
       "\n",
       "                                                Team  Runner_mins  \n",
       "5                                                       36.350000  \n",
       "6   \\n\\r\\n                            INTEL TEAM ...    36.700000  \n",
       "7                                                       37.733333  \n",
       "8                                                       38.566667  \n",
       "9   \\n\\r\\n                            INTEL TEAM ...    39.350000  "
      ]
     },
     "execution_count": 48,
     "metadata": {},
     "output_type": "execute_result"
    }
   ],
   "source": [
    "df7.head()"
   ]
  },
  {
   "cell_type": "code",
   "execution_count": 49,
   "metadata": {},
   "outputs": [
    {
     "data": {
      "text/plain": [
       "Place           object\n",
       " Bib            object\n",
       " Name           object\n",
       " Gender         object\n",
       " City           object\n",
       " State          object\n",
       " Chip Time      object\n",
       " Chip Pace      object\n",
       " Gun Time       object\n",
       "Team            object\n",
       "Runner_mins    float64\n",
       "dtype: object"
      ]
     },
     "execution_count": 49,
     "metadata": {},
     "output_type": "execute_result"
    }
   ],
   "source": [
    "df7.dtypes"
   ]
  },
  {
   "cell_type": "code",
   "execution_count": 50,
   "metadata": {},
   "outputs": [
    {
     "data": {
      "text/html": [
       "<div>\n",
       "<style scoped>\n",
       "    .dataframe tbody tr th:only-of-type {\n",
       "        vertical-align: middle;\n",
       "    }\n",
       "\n",
       "    .dataframe tbody tr th {\n",
       "        vertical-align: top;\n",
       "    }\n",
       "\n",
       "    .dataframe thead th {\n",
       "        text-align: right;\n",
       "    }\n",
       "</style>\n",
       "<table border=\"1\" class=\"dataframe\">\n",
       "  <thead>\n",
       "    <tr style=\"text-align: right;\">\n",
       "      <th></th>\n",
       "      <th>Runner_mins</th>\n",
       "    </tr>\n",
       "  </thead>\n",
       "  <tbody>\n",
       "    <tr>\n",
       "      <th>count</th>\n",
       "      <td>577.000000</td>\n",
       "    </tr>\n",
       "    <tr>\n",
       "      <th>mean</th>\n",
       "      <td>60.035933</td>\n",
       "    </tr>\n",
       "    <tr>\n",
       "      <th>std</th>\n",
       "      <td>11.970623</td>\n",
       "    </tr>\n",
       "    <tr>\n",
       "      <th>min</th>\n",
       "      <td>36.350000</td>\n",
       "    </tr>\n",
       "    <tr>\n",
       "      <th>25%</th>\n",
       "      <td>51.000000</td>\n",
       "    </tr>\n",
       "    <tr>\n",
       "      <th>50%</th>\n",
       "      <td>59.016667</td>\n",
       "    </tr>\n",
       "    <tr>\n",
       "      <th>75%</th>\n",
       "      <td>67.266667</td>\n",
       "    </tr>\n",
       "    <tr>\n",
       "      <th>max</th>\n",
       "      <td>101.300000</td>\n",
       "    </tr>\n",
       "  </tbody>\n",
       "</table>\n",
       "</div>"
      ],
      "text/plain": [
       "       Runner_mins\n",
       "count   577.000000\n",
       "mean     60.035933\n",
       "std      11.970623\n",
       "min      36.350000\n",
       "25%      51.000000\n",
       "50%      59.016667\n",
       "75%      67.266667\n",
       "max     101.300000"
      ]
     },
     "execution_count": 50,
     "metadata": {},
     "output_type": "execute_result"
    }
   ],
   "source": [
    "# Cálculo de estatísticas para colunas numéricas no dataframe\n",
    "df7.describe(include = [np.number])"
   ]
  },
  {
   "cell_type": "markdown",
   "metadata": {},
   "source": [
    "**Análise**:\n",
    "\n",
    "- O tempo médio de chip para todos os corredores foi de ~ 60 minutos (a média na tabela acima).\n",
    "- O corredor 10K mais rápido terminou em 36,35 minutos (valor mínimo na tabela acima).\n",
    "- O corredor mais lento terminou em 101,30 minutos (valor máximo na tabela acima)."
   ]
  },
  {
   "cell_type": "markdown",
   "metadata": {},
   "source": [
    "Vamos criar um boxplot para sumarizar nossa análise."
   ]
  },
  {
   "cell_type": "code",
   "execution_count": 51,
   "metadata": {},
   "outputs": [
    {
     "data": {
      "image/png": "[encoded data removed]",
      "text/plain": [
       "<Figure size 432x288 with 1 Axes>"
      ]
     },
     "metadata": {
      "needs_background": "light"
     },
     "output_type": "display_data"
    }
   ],
   "source": [
    "# Plot\n",
    "ax = sns.boxplot(x = df7[\"Runner_mins\"], palette = \"Set3\", orient = \"v\")\n",
    "plt.ylabel('Chip Time')\n",
    "plt.xlabel('Runners')\n",
    "plt.show()"
   ]
  },
  {
   "cell_type": "markdown",
   "metadata": {},
   "source": [
    "Acima estão as estatísticas de resumo de dados para os corredores mostrados em um boxplot: Máximo, mínimo, médio, primeiro quartil, terceiro quartil, incluindo valores extremos."
   ]
  },
  {
   "cell_type": "markdown",
   "metadata": {},
   "source": [
    "Criaremos agora um gráfico de distribuição dos tempos dos chips dos corredores usando a biblioteca seaborn."
   ]
  },
  {
   "cell_type": "code",
   "execution_count": 52,
   "metadata": {},
   "outputs": [
    {
     "data": {
      "image/png": "[encoded data removed]",
      "text/plain": [
       "<Figure size 432x288 with 1 Axes>"
      ]
     },
     "metadata": {
      "needs_background": "light"
     },
     "output_type": "display_data"
    }
   ],
   "source": [
    "# Plot\n",
    "x = df7['Runner_mins']\n",
    "ax = sns.distplot(x, hist = True, kde = True, rug = False, color = 'blue', bins = 25, hist_kws = {'edgecolor':'black'})\n",
    "plt.show()"
   ]
  },
  {
   "cell_type": "markdown",
   "metadata": {},
   "source": [
    "A distribuição da variável parece quase normal. Mas vamos realizar um teste estatístico para confirmar.\n",
    "\n",
    "Um ponto de decisão importante ao trabalhar com uma amostra de dados é usar métodos estatísticos paramétricos ou não paramétricos.\n",
    "\n",
    "Os métodos estatísticos paramétricos assumem que os dados têm uma distribuição conhecida e específica, geralmente uma distribuição gaussiana (normal). Se uma amostra de dados não é gaussiana, as suposições dos testes estatísticos paramétricos são violadas e métodos estatísticos não paramétricos devem ser utilizados.\n",
    "\n",
    "Há várias técnicas que você pode usar para verificar se sua amostra de dados se desvia de uma distribuição gaussiana, chamada testes de normalidade.\n",
    "\n",
    "O pacote stats do SciPy fornece uma função para um dos testes de normalidade mais comuns, o Shapiro-Wilk Test. Usaremos ainda a função normality do pacote Pengouin.\n",
    "\n",
    "O Shapiro-Wilk é um teste de hipóteses, que testa essas duas hipóteses:\n",
    "\n",
    "**A hipótese nula deste teste é que a população é normalmente distribuída. Assim, se o valor-p for menor que o nível alfa escolhido (normalmente definido em 0,05), a hipótese nula será rejeitada e há evidências de que os dados testados não são normalmente distribuídos.**\n",
    "\n",
    "O resultado do teste de Shapiro-Wilk deve ser interpretado com cautela no caso de amostras grandes. "
   ]
  },
  {
   "cell_type": "code",
   "execution_count": 53,
   "metadata": {},
   "outputs": [],
   "source": [
    "# Valor de x\n",
    "x = df7['Runner_mins']"
   ]
  },
  {
   "cell_type": "code",
   "execution_count": 54,
   "metadata": {},
   "outputs": [
    {
     "data": {
      "text/plain": [
       "(0.9625251889228821, 5.836563177208376e-11)"
      ]
     },
     "execution_count": 54,
     "metadata": {},
     "output_type": "execute_result"
    }
   ],
   "source": [
    "# Teste de normalidade com Scipy\n",
    "stats.shapiro(x)"
   ]
  },
  {
   "cell_type": "code",
   "execution_count": 55,
   "metadata": {},
   "outputs": [
    {
     "data": {
      "text/html": [
       "<div>\n",
       "<style scoped>\n",
       "    .dataframe tbody tr th:only-of-type {\n",
       "        vertical-align: middle;\n",
       "    }\n",
       "\n",
       "    .dataframe tbody tr th {\n",
       "        vertical-align: top;\n",
       "    }\n",
       "\n",
       "    .dataframe thead th {\n",
       "        text-align: right;\n",
       "    }\n",
       "</style>\n",
       "<table border=\"1\" class=\"dataframe\">\n",
       "  <thead>\n",
       "    <tr style=\"text-align: right;\">\n",
       "      <th></th>\n",
       "      <th>W</th>\n",
       "      <th>pval</th>\n",
       "      <th>normal</th>\n",
       "    </tr>\n",
       "  </thead>\n",
       "  <tbody>\n",
       "    <tr>\n",
       "      <th>Runner_mins</th>\n",
       "      <td>0.962525</td>\n",
       "      <td>5.836563e-11</td>\n",
       "      <td>False</td>\n",
       "    </tr>\n",
       "  </tbody>\n",
       "</table>\n",
       "</div>"
      ],
      "text/plain": [
       "                    W          pval  normal\n",
       "Runner_mins  0.962525  5.836563e-11   False"
      ]
     },
     "execution_count": 55,
     "metadata": {},
     "output_type": "execute_result"
    }
   ],
   "source": [
    "# Teste de normalidade com Pingouin\n",
    "pg.normality(x)"
   ]
  },
  {
   "cell_type": "markdown",
   "metadata": {},
   "source": [
    "**Análise**:\n",
    "\n",
    "- A variável não segue uma distribuição normal, uma vez que o valor-p é menor que 0.05 e assim há evidências estatísticas para rejeitar a hipótese nula. A função normality() do pacote Pingouin coloca essa informação na última coluna."
   ]
  },
  {
   "cell_type": "markdown",
   "metadata": {},
   "source": [
    "Vamos agora descobrir se houve alguma diferença de desempenho entre homens e mulheres de várias faixas etárias."
   ]
  },
  {
   "cell_type": "code",
   "execution_count": 56,
   "metadata": {},
   "outputs": [],
   "source": [
    "# Separando os dados\n",
    "f_runners = df7.loc[df7[' Gender'] == ' F']['Runner_mins']\n",
    "m_runners = df7.loc[df7[' Gender'] == ' M']['Runner_mins']"
   ]
  },
  {
   "cell_type": "code",
   "execution_count": 57,
   "metadata": {},
   "outputs": [
    {
     "data": {
      "text/plain": [
       "<matplotlib.legend.Legend at 0x7f8bd85c3d50>"
      ]
     },
     "execution_count": 57,
     "metadata": {},
     "output_type": "execute_result"
    },
    {
     "data": {
      "image/png": "[encoded data removed]",
      "text/plain": [
       "<Figure size 432x288 with 1 Axes>"
      ]
     },
     "metadata": {
      "needs_background": "light"
     },
     "output_type": "display_data"
    }
   ],
   "source": [
    "# Criaremos os 2 plots em uma só figura para facilitar a comparação\n",
    "sns.distplot(f_runners, hist = True, kde = True, rug = False, hist_kws = {'edgecolor':'black'}, label = 'Mulher')\n",
    "sns.distplot(m_runners, hist = False, kde = True, rug = False, hist_kws = {'edgecolor':'black'}, label = 'Homem')\n",
    "plt.legend()"
   ]
  },
  {
   "cell_type": "markdown",
   "metadata": {},
   "source": [
    "**Análise**:\n",
    "\n",
    "- A distribuição indica que as mulheres eram mais lentas que os homens, em média."
   ]
  },
  {
   "cell_type": "code",
   "execution_count": 58,
   "metadata": {},
   "outputs": [
    {
     "data": {
      "text/html": [
       "<div>\n",
       "<style scoped>\n",
       "    .dataframe tbody tr th:only-of-type {\n",
       "        vertical-align: middle;\n",
       "    }\n",
       "\n",
       "    .dataframe tbody tr th {\n",
       "        vertical-align: top;\n",
       "    }\n",
       "\n",
       "    .dataframe thead tr th {\n",
       "        text-align: left;\n",
       "    }\n",
       "\n",
       "    .dataframe thead tr:last-of-type th {\n",
       "        text-align: right;\n",
       "    }\n",
       "</style>\n",
       "<table border=\"1\" class=\"dataframe\">\n",
       "  <thead>\n",
       "    <tr>\n",
       "      <th></th>\n",
       "      <th colspan=\"8\" halign=\"left\">Runner_mins</th>\n",
       "    </tr>\n",
       "    <tr>\n",
       "      <th></th>\n",
       "      <th>count</th>\n",
       "      <th>mean</th>\n",
       "      <th>std</th>\n",
       "      <th>min</th>\n",
       "      <th>25%</th>\n",
       "      <th>50%</th>\n",
       "      <th>75%</th>\n",
       "      <th>max</th>\n",
       "    </tr>\n",
       "    <tr>\n",
       "      <th>Gender</th>\n",
       "      <th></th>\n",
       "      <th></th>\n",
       "      <th></th>\n",
       "      <th></th>\n",
       "      <th></th>\n",
       "      <th></th>\n",
       "      <th></th>\n",
       "      <th></th>\n",
       "    </tr>\n",
       "  </thead>\n",
       "  <tbody>\n",
       "    <tr>\n",
       "      <th>F</th>\n",
       "      <td>163.0</td>\n",
       "      <td>66.119223</td>\n",
       "      <td>12.184440</td>\n",
       "      <td>43.766667</td>\n",
       "      <td>58.758333</td>\n",
       "      <td>64.616667</td>\n",
       "      <td>72.058333</td>\n",
       "      <td>101.300000</td>\n",
       "    </tr>\n",
       "    <tr>\n",
       "      <th>M</th>\n",
       "      <td>414.0</td>\n",
       "      <td>57.640821</td>\n",
       "      <td>11.011857</td>\n",
       "      <td>36.350000</td>\n",
       "      <td>49.395833</td>\n",
       "      <td>55.791667</td>\n",
       "      <td>64.804167</td>\n",
       "      <td>98.516667</td>\n",
       "    </tr>\n",
       "  </tbody>\n",
       "</table>\n",
       "</div>"
      ],
      "text/plain": [
       "        Runner_mins                                                         \\\n",
       "              count       mean        std        min        25%        50%   \n",
       " Gender                                                                      \n",
       " F            163.0  66.119223  12.184440  43.766667  58.758333  64.616667   \n",
       " M            414.0  57.640821  11.011857  36.350000  49.395833  55.791667   \n",
       "\n",
       "                                \n",
       "               75%         max  \n",
       " Gender                         \n",
       " F       72.058333  101.300000  \n",
       " M       64.804167   98.516667  "
      ]
     },
     "execution_count": 58,
     "metadata": {},
     "output_type": "execute_result"
    }
   ],
   "source": [
    "# Computando estatísticas resumidas para homens e mulheres separadamente usando o método groupby ()\n",
    "g_stats = df7.groupby(\" Gender\", as_index = True).describe()\n",
    "g_stats"
   ]
  },
  {
   "cell_type": "markdown",
   "metadata": {},
   "source": [
    "**Análise**:\n",
    "    \n",
    "- O tempo médio de chip para todas as mulheres e homens foi de ~ 66 minutos e ~ 58 minutos, respectivamente, comprovando a análise do gráfico. "
   ]
  },
  {
   "cell_type": "markdown",
   "metadata": {},
   "source": [
    "Um boxplot ajuda a comparar as amostras de homens e mulheres."
   ]
  },
  {
   "cell_type": "code",
   "execution_count": 59,
   "metadata": {},
   "outputs": [
    {
     "data": {
      "text/plain": [
       "Text(0.5, 0.98, '')"
      ]
     },
     "execution_count": 59,
     "metadata": {},
     "output_type": "execute_result"
    },
    {
     "data": {
      "image/png": "[encoded data removed]",
      "text/plain": [
       "<Figure size 432x288 with 1 Axes>"
      ]
     },
     "metadata": {
      "needs_background": "light"
     },
     "output_type": "display_data"
    }
   ],
   "source": [
    "# Plot\n",
    "df7.boxplot(column = 'Runner_mins', by = ' Gender')\n",
    "plt.ylabel('Chip Time')\n",
    "plt.suptitle(\"\")"
   ]
  },
  {
   "cell_type": "markdown",
   "metadata": {},
   "source": [
    "Nossa fonte de dados possui resultados de diversas corridas. Material em abundância para você praticar seus conhecimentos em análise de dados."
   ]
  },
  {
   "cell_type": "markdown",
   "metadata": {},
   "source": [
    "# Fim"
   ]
  }
 ],
 "metadata": {
  "kernelspec": {
   "display_name": "Python 3",
   "language": "python",
   "name": "python3"
  },
  "language_info": {
   "codemirror_mode": {
    "name": "ipython",
    "version": 3
   },
   "file_extension": ".py",
   "mimetype": "text/x-python",
   "name": "python",
   "nbconvert_exporter": "python",
   "pygments_lexer": "ipython3",
   "version": "3.7.6"
  }
 },
 "nbformat": 4,
 "nbformat_minor": 4
}
